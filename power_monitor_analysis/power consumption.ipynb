{
 "cells": [
  {
   "cell_type": "markdown",
   "metadata": {},
   "source": [
    "# Test if power consumption is uniform\n",
    "\n",
    "\n",
    "The start and end time is running one hour back\n"
   ]
  },
  {
   "cell_type": "code",
   "execution_count": 2,
   "metadata": {},
   "outputs": [],
   "source": [
    "%matplotlib inline\n",
    "import matplotlib\n",
    "import numpy as np\n",
    "import matplotlib.pyplot as plt\n",
    "\n",
    "import os\n",
    "\n",
    "import json\n",
    "import pandas as pd\n",
    "\n",
    "from sqlalchemy.types import TIMESTAMP as typeTIMESTAMP\n",
    "\n",
    "from dotenv import load_dotenv\n",
    "\n",
    "load_dotenv(verbose=True)\n",
    "\n",
    "import math\n",
    "import logging\n",
    "logger = logging.getLogger(__name__)\n",
    "\n",
    "import dateutil"
   ]
  },
  {
   "cell_type": "code",
   "execution_count": 2,
   "metadata": {},
   "outputs": [],
   "source": [
    "from sqlalchemy import create_engine\n",
    "REMOTE_HOST=os.getenv('REMOTE_HOST')\n",
    "REMOTE_DB_PASS=os.getenv('REMOTE_DB_PASS')\n",
    "REMOTE_USER=os.getenv('REMOTE_USER')\n",
    "DB_NAME=os.getenv('DB_NAME')\n",
    "\n",
    "engine = create_engine(f'postgresql+psycopg2://{REMOTE_USER}:{REMOTE_DB_PASS}@{REMOTE_HOST}/{DB_NAME}', server_side_cursors=True)"
   ]
  },
  {
   "cell_type": "code",
   "execution_count": 4,
   "metadata": {},
   "outputs": [],
   "source": [
    "# table_name='events'\n",
    "\n",
    "# last_hours = 2\n",
    "# df = pd.read_sql_query(f\"\"\"\n",
    "# SELECT\n",
    "#        to_timestamp(event_data::json -> 'new_state' ->> 'last_changed','YYYY-MM-DD\"T\"HH24:MI:SS.US') as last_changed,\n",
    "#        event_data::json -> 'new_state' -> 'entity_id' as entity_id,\n",
    "#        event_data::json -> 'new_state' -> 'attributes' -> 'node_id' as node_id,\n",
    "#        event_data::json -> 'new_state' -> 'attributes' -> 'power_consumption' as power_consumption,\n",
    "#        event_data::json -> 'new_state' -> 'attributes' -> 'unit_of_measurement' as unit\n",
    "# FROM  events\n",
    "# WHERE event_type like 'state_changed'\n",
    "# AND event_data::json ->> 'entity_id' = 'sensor.aeon_labs_zw096_smart_switch_6_power_2'\n",
    "# -- ORDER BY last_changed DESC limit 3600 * {last_hours}\n",
    "# ;\n",
    "# \"\"\", con=engine)"
   ]
  },
  {
   "cell_type": "code",
   "execution_count": 23,
   "metadata": {},
   "outputs": [],
   "source": [
    "# df['last_changed'] = pd.to_datetime(df['last_changed'], errors='coerce')\n",
    "# df.dropna(subset=['last_changed'], inplace=True)\n",
    "# df.set_index('last_changed', inplace=True)"
   ]
  },
  {
   "cell_type": "code",
   "execution_count": 25,
   "metadata": {},
   "outputs": [
    {
     "data": {
      "text/html": [
       "<div>\n",
       "<style scoped>\n",
       "    .dataframe tbody tr th:only-of-type {\n",
       "        vertical-align: middle;\n",
       "    }\n",
       "\n",
       "    .dataframe tbody tr th {\n",
       "        vertical-align: top;\n",
       "    }\n",
       "\n",
       "    .dataframe thead th {\n",
       "        text-align: right;\n",
       "    }\n",
       "</style>\n",
       "<table border=\"1\" class=\"dataframe\">\n",
       "  <thead>\n",
       "    <tr style=\"text-align: right;\">\n",
       "      <th></th>\n",
       "      <th>entity_id</th>\n",
       "      <th>node_id</th>\n",
       "      <th>power_consumption</th>\n",
       "      <th>unit</th>\n",
       "    </tr>\n",
       "    <tr>\n",
       "      <th>last_changed</th>\n",
       "      <th></th>\n",
       "      <th></th>\n",
       "      <th></th>\n",
       "      <th></th>\n",
       "    </tr>\n",
       "  </thead>\n",
       "  <tbody>\n",
       "    <tr>\n",
       "      <th>2020-05-30 14:32:33.790128+00:00</th>\n",
       "      <td>sensor.aeon_labs_zw096_smart_switch_6_power_2</td>\n",
       "      <td>5.0</td>\n",
       "      <td>16.784</td>\n",
       "      <td>W</td>\n",
       "    </tr>\n",
       "    <tr>\n",
       "      <th>2020-05-30 14:32:36.793057+00:00</th>\n",
       "      <td>sensor.aeon_labs_zw096_smart_switch_6_power_2</td>\n",
       "      <td>5.0</td>\n",
       "      <td>16.675</td>\n",
       "      <td>W</td>\n",
       "    </tr>\n",
       "    <tr>\n",
       "      <th>2020-05-30 14:32:39.782380+00:00</th>\n",
       "      <td>sensor.aeon_labs_zw096_smart_switch_6_power_2</td>\n",
       "      <td>5.0</td>\n",
       "      <td>16.729</td>\n",
       "      <td>W</td>\n",
       "    </tr>\n",
       "    <tr>\n",
       "      <th>2020-05-30 14:32:42.790067+00:00</th>\n",
       "      <td>sensor.aeon_labs_zw096_smart_switch_6_power_2</td>\n",
       "      <td>5.0</td>\n",
       "      <td>16.778</td>\n",
       "      <td>W</td>\n",
       "    </tr>\n",
       "    <tr>\n",
       "      <th>2020-05-30 14:32:45.788001+00:00</th>\n",
       "      <td>sensor.aeon_labs_zw096_smart_switch_6_power_2</td>\n",
       "      <td>5.0</td>\n",
       "      <td>16.794</td>\n",
       "      <td>W</td>\n",
       "    </tr>\n",
       "  </tbody>\n",
       "</table>\n",
       "</div>"
      ],
      "text/plain": [
       "                                                                      entity_id  \\\n",
       "last_changed                                                                      \n",
       "2020-05-30 14:32:33.790128+00:00  sensor.aeon_labs_zw096_smart_switch_6_power_2   \n",
       "2020-05-30 14:32:36.793057+00:00  sensor.aeon_labs_zw096_smart_switch_6_power_2   \n",
       "2020-05-30 14:32:39.782380+00:00  sensor.aeon_labs_zw096_smart_switch_6_power_2   \n",
       "2020-05-30 14:32:42.790067+00:00  sensor.aeon_labs_zw096_smart_switch_6_power_2   \n",
       "2020-05-30 14:32:45.788001+00:00  sensor.aeon_labs_zw096_smart_switch_6_power_2   \n",
       "\n",
       "                                  node_id  power_consumption unit  \n",
       "last_changed                                                       \n",
       "2020-05-30 14:32:33.790128+00:00      5.0             16.784    W  \n",
       "2020-05-30 14:32:36.793057+00:00      5.0             16.675    W  \n",
       "2020-05-30 14:32:39.782380+00:00      5.0             16.729    W  \n",
       "2020-05-30 14:32:42.790067+00:00      5.0             16.778    W  \n",
       "2020-05-30 14:32:45.788001+00:00      5.0             16.794    W  "
      ]
     },
     "execution_count": 25,
     "metadata": {},
     "output_type": "execute_result"
    }
   ],
   "source": [
    "# df.tail()"
   ]
  },
  {
   "cell_type": "code",
   "execution_count": 11,
   "metadata": {},
   "outputs": [],
   "source": [
    "#df.to_csv(\"../results/power_sst_2_40_128.csv\")"
   ]
  },
  {
   "cell_type": "code",
   "execution_count": 5,
   "metadata": {},
   "outputs": [],
   "source": [
    "df = pd.read_csv(\"../results/power_sst_2_40_128.csv\")"
   ]
  },
  {
   "cell_type": "code",
   "execution_count": 6,
   "metadata": {},
   "outputs": [],
   "source": [
    "df['last_changed'] = pd.to_datetime(df['last_changed'], errors='coerce')\n",
    "df.dropna(subset=['last_changed'], inplace=True)\n",
    "df.set_index('last_changed', inplace=True)"
   ]
  },
  {
   "cell_type": "code",
   "execution_count": 7,
   "metadata": {},
   "outputs": [
    {
     "data": {
      "text/html": [
       "<div>\n",
       "<style scoped>\n",
       "    .dataframe tbody tr th:only-of-type {\n",
       "        vertical-align: middle;\n",
       "    }\n",
       "\n",
       "    .dataframe tbody tr th {\n",
       "        vertical-align: top;\n",
       "    }\n",
       "\n",
       "    .dataframe thead th {\n",
       "        text-align: right;\n",
       "    }\n",
       "</style>\n",
       "<table border=\"1\" class=\"dataframe\">\n",
       "  <thead>\n",
       "    <tr style=\"text-align: right;\">\n",
       "      <th></th>\n",
       "      <th>power_consumption</th>\n",
       "    </tr>\n",
       "    <tr>\n",
       "      <th>last_changed</th>\n",
       "      <th></th>\n",
       "    </tr>\n",
       "  </thead>\n",
       "  <tbody>\n",
       "    <tr>\n",
       "      <th>2020-06-17 18:20:00.163735+00:00</th>\n",
       "      <td>84.443</td>\n",
       "    </tr>\n",
       "    <tr>\n",
       "      <th>2020-06-17 18:20:03.165072+00:00</th>\n",
       "      <td>82.925</td>\n",
       "    </tr>\n",
       "    <tr>\n",
       "      <th>2020-06-17 18:20:06.158527+00:00</th>\n",
       "      <td>85.676</td>\n",
       "    </tr>\n",
       "    <tr>\n",
       "      <th>2020-06-17 18:20:09.159357+00:00</th>\n",
       "      <td>83.175</td>\n",
       "    </tr>\n",
       "    <tr>\n",
       "      <th>2020-06-17 18:20:12.158819+00:00</th>\n",
       "      <td>85.010</td>\n",
       "    </tr>\n",
       "    <tr>\n",
       "      <th>...</th>\n",
       "      <td>...</td>\n",
       "    </tr>\n",
       "    <tr>\n",
       "      <th>2020-06-17 19:06:48.202073+00:00</th>\n",
       "      <td>89.905</td>\n",
       "    </tr>\n",
       "    <tr>\n",
       "      <th>2020-06-17 19:06:51.200411+00:00</th>\n",
       "      <td>91.094</td>\n",
       "    </tr>\n",
       "    <tr>\n",
       "      <th>2020-06-17 19:06:54.198960+00:00</th>\n",
       "      <td>89.771</td>\n",
       "    </tr>\n",
       "    <tr>\n",
       "      <th>2020-06-17 19:06:57.199829+00:00</th>\n",
       "      <td>90.645</td>\n",
       "    </tr>\n",
       "    <tr>\n",
       "      <th>2020-06-17 19:07:00.203659+00:00</th>\n",
       "      <td>90.331</td>\n",
       "    </tr>\n",
       "  </tbody>\n",
       "</table>\n",
       "<p>941 rows × 1 columns</p>\n",
       "</div>"
      ],
      "text/plain": [
       "                                  power_consumption\n",
       "last_changed                                       \n",
       "2020-06-17 18:20:00.163735+00:00             84.443\n",
       "2020-06-17 18:20:03.165072+00:00             82.925\n",
       "2020-06-17 18:20:06.158527+00:00             85.676\n",
       "2020-06-17 18:20:09.159357+00:00             83.175\n",
       "2020-06-17 18:20:12.158819+00:00             85.010\n",
       "...                                             ...\n",
       "2020-06-17 19:06:48.202073+00:00             89.905\n",
       "2020-06-17 19:06:51.200411+00:00             91.094\n",
       "2020-06-17 19:06:54.198960+00:00             89.771\n",
       "2020-06-17 19:06:57.199829+00:00             90.645\n",
       "2020-06-17 19:07:00.203659+00:00             90.331\n",
       "\n",
       "[941 rows x 1 columns]"
      ]
     },
     "execution_count": 7,
     "metadata": {},
     "output_type": "execute_result"
    }
   ],
   "source": [
    "start_date = '2020-06-17'\n",
    "end_date = '2020-06-17'\n",
    "start_time = '18:20'\n",
    "end_time = '19:50'\n",
    "subset_df4 = df.loc[start_date:end_date].between_time(start_time, end_time)[['power_consumption']]\n",
    "subset_df4"
   ]
  },
  {
   "cell_type": "code",
   "execution_count": 11,
   "metadata": {},
   "outputs": [],
   "source": [
    "def plot_power(start_date,end_date,start_time,end_time):\n",
    "    subset_df4 = df.loc[start_date:end_date].between_time(start_time, end_time)[['power_consumption']]\n",
    "    y_max = subset_df4['power_consumption'].max() * 1.2\n",
    "\n",
    "    subset_df4[(df != 0).all(1)].plot(ylim=(0,y_max))\n",
    "    return subset_df4"
   ]
  },
  {
   "cell_type": "code",
   "execution_count": 15,
   "metadata": {},
   "outputs": [
    {
     "name": "stderr",
     "output_type": "stream",
     "text": [
      "/Users/shivangi/Documents/power_monitor/lib/python3.7/site-packages/ipykernel_launcher.py:5: UserWarning: Boolean Series key will be reindexed to match DataFrame index.\n",
      "  \"\"\"\n"
     ]
    },
    {
     "data": {
      "image/png": "[encoded data removed]",
      "text/plain": [
       "<Figure size 432x288 with 1 Axes>"
      ]
     },
     "metadata": {
      "needs_background": "light"
     },
     "output_type": "display_data"
    }
   ],
   "source": [
    "#time ran : 2020-06-17 19:41:02.838  2020-06-17 20:02:13.035 \n",
    "subset_df = plot_power('2020-06-17','2020-06-17','18:42','19:02')\n",
    "\n",
    "#an hour behind! "
   ]
  },
  {
   "cell_type": "code",
   "execution_count": 16,
   "metadata": {},
   "outputs": [],
   "source": [
    "from statsmodels.tsa.stattools import adfuller\n",
    "def testStationary(series):\n",
    "    X = series.values\n",
    "    result = adfuller(X)\n",
    "    print('ADF Statistic: %f' % result[0])\n",
    "    print('p-value: %f' % result[1])\n",
    "    print('Critical Values:')\n",
    "    for key, value in result[4].items():\n",
    "        print('\\t%s: %.3f' % (key, value))"
   ]
  },
  {
   "cell_type": "code",
   "execution_count": 17,
   "metadata": {},
   "outputs": [
    {
     "name": "stdout",
     "output_type": "stream",
     "text": [
      "ADF Statistic: -17.783019\n",
      "p-value: 0.000000\n",
      "Critical Values:\n",
      "\t1%: -3.447\n",
      "\t5%: -2.869\n",
      "\t10%: -2.571\n"
     ]
    }
   ],
   "source": [
    "testStationary(subset_df[\"power_consumption\"])"
   ]
  },
  {
   "cell_type": "markdown",
   "metadata": {},
   "source": [
    "## test"
   ]
  },
  {
   "cell_type": "code",
   "execution_count": 3,
   "metadata": {},
   "outputs": [],
   "source": [
    "df = pd.read_csv(\"../results/bert-tiny-8-pm.csv\")"
   ]
  },
  {
   "cell_type": "code",
   "execution_count": 4,
   "metadata": {},
   "outputs": [],
   "source": [
    "df['last_changed'] = pd.to_datetime(df['last_changed'], errors='coerce')\n",
    "df.dropna(subset=['last_changed'], inplace=True)\n",
    "df.set_index('last_changed', inplace=True)"
   ]
  },
  {
   "cell_type": "code",
   "execution_count": 12,
   "metadata": {},
   "outputs": [
    {
     "name": "stderr",
     "output_type": "stream",
     "text": [
      "/Users/shivangi/Documents/power_monitor/lib/python3.7/site-packages/ipykernel_launcher.py:5: UserWarning: Boolean Series key will be reindexed to match DataFrame index.\n",
      "  \"\"\"\n"
     ]
    },
    {
     "data": {
      "image/png": "[encoded data removed]",
      "text/plain": [
       "<Figure size 432x288 with 1 Axes>"
      ]
     },
     "metadata": {
      "needs_background": "light"
     },
     "output_type": "display_data"
    }
   ],
   "source": [
    "subset_df = plot_power('2020-07-16','2020-07-16','17:11:22','17:16:45')\n",
    "#subset_df4 = df.loc['2020-07-16':'2020-07-16'].between_time('17:11:22','17:16:45')[['power_consumption']]\n",
    "#subset_df4"
   ]
  },
  {
   "cell_type": "code",
   "execution_count": 14,
   "metadata": {},
   "outputs": [
    {
     "name": "stderr",
     "output_type": "stream",
     "text": [
      "/Users/shivangi/Documents/power_monitor/lib/python3.7/site-packages/ipykernel_launcher.py:5: UserWarning: Boolean Series key will be reindexed to match DataFrame index.\n",
      "  \"\"\"\n"
     ]
    },
    {
     "data": {
      "image/png": "[encoded data removed]",
      "text/plain": [
       "<Figure size 432x288 with 1 Axes>"
      ]
     },
     "metadata": {
      "needs_background": "light"
     },
     "output_type": "display_data"
    }
   ],
   "source": [
    "subset_df = plot_power('2020-07-15','2020-07-15','17:10:54','17:13:51')"
   ]
  },
  {
   "cell_type": "code",
   "execution_count": null,
   "metadata": {},
   "outputs": [],
   "source": []
  }
 ],
 "metadata": {
  "kernelspec": {
   "display_name": "Python 3",
   "language": "python",
   "name": "python3"
  },
  "language_info": {
   "codemirror_mode": {
    "name": "ipython",
    "version": 3
   },
   "file_extension": ".py",
   "mimetype": "text/x-python",
   "name": "python",
   "nbconvert_exporter": "python",
   "pygments_lexer": "ipython3",
   "version": "3.7.5"
  }
 },
 "nbformat": 4,
 "nbformat_minor": 4
}
