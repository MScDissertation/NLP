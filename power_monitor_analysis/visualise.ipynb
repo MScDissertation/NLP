{
 "cells": [
  {
   "cell_type": "code",
   "execution_count": 1,
   "metadata": {},
   "outputs": [],
   "source": [
    "%matplotlib inline\n",
    "import matplotlib\n",
    "import numpy as np\n",
    "import matplotlib.pyplot as plt\n",
    "\n",
    "import os\n",
    "\n",
    "import json\n",
    "import pandas as pd\n",
    "\n",
    "from sqlalchemy.types import TIMESTAMP as typeTIMESTAMP\n",
    "\n",
    "from dotenv import load_dotenv\n",
    "\n",
    "load_dotenv(verbose=True)\n",
    "\n",
    "import math\n",
    "import logging\n",
    "logger = logging.getLogger(__name__)\n",
    "\n",
    "import dateutil"
   ]
  },
  {
   "cell_type": "code",
   "execution_count": 2,
   "metadata": {
    "pycharm": {
     "name": "#%%\n"
    }
   },
   "outputs": [
    {
     "name": "stdout",
     "output_type": "stream",
     "text": [
      "/Users/shivangi/Documents/Dissertation/power_monitor_analysis\n"
     ]
    }
   ],
   "source": [
    "print (os.getcwd())"
   ]
  },
  {
   "cell_type": "code",
   "execution_count": 3,
   "metadata": {
    "pycharm": {
     "name": "#%%\n"
    }
   },
   "outputs": [],
   "source": [
    "from sqlalchemy import create_engine\n",
    "REMOTE_HOST=os.getenv('REMOTE_HOST')\n",
    "REMOTE_DB_PASS=os.getenv('REMOTE_DB_PASS')\n",
    "REMOTE_USER=os.getenv('REMOTE_USER')\n",
    "DB_NAME=os.getenv('DB_NAME')\n",
    "\n",
    "engine = create_engine(f'postgresql+psycopg2://{REMOTE_USER}:{REMOTE_DB_PASS}@{REMOTE_HOST}/{DB_NAME}', server_side_cursors=True)"
   ]
  },
  {
   "cell_type": "markdown",
   "metadata": {},
   "source": [
    "# 4 Alternatives to read the data\n",
    "evaluate only one of these, as desired"
   ]
  },
  {
   "cell_type": "markdown",
   "metadata": {},
   "source": [
    "# read in chunks\n",
    "for huge data"
   ]
  },
  {
   "cell_type": "code",
   "execution_count": 6,
   "metadata": {
    "pycharm": {
     "name": "#%%\n"
    }
   },
   "outputs": [],
   "source": [
    "# https://stackoverflow.com/questions/18107953/how-to-create-a-large-pandas-dataframe-from-an-sql-query-without-running-out-of\n",
    "def read_db_in_chunks(connection):\n",
    "    import pandas.io.sql as psql\n",
    "    chunk_size = 10000\n",
    "    offset = 0\n",
    "    dfs = []\n",
    "    while True:\n",
    "      sql = \"\"\"\n",
    "SELECT\n",
    "       to_timestamp(event_data::json -> 'new_state' ->> 'last_changed','YYYY-MM-DD\"T\"HH24:MI:SS.US') as last_changed,\n",
    "       event_data::json -> 'new_state' -> 'entity_id' as entity_id,\n",
    "       event_data::json -> 'new_state' -> 'attributes' -> 'node_id' as node_id,\n",
    "       event_data::json -> 'new_state' -> 'attributes' -> 'power_consumption' as power_consumption,\n",
    "       event_data::json -> 'new_state' -> 'attributes' -> 'unit_of_measurement' as unit\n",
    "FROM  events\n",
    "WHERE event_type like 'state_changed'\n",
    "AND event_data::json ->> 'entity_id' = 'sensor.aeon_labs_zw096_smart_switch_6_power_2'      \n",
    "limit %d offset %d\"\"\" % (chunk_size,offset)\n",
    "      dfs.append(psql.read_sql_query(sql, con=connection))\n",
    "      offset += chunk_size\n",
    "      if len(dfs[-1]) < chunk_size:\n",
    "        break\n",
    "    df = pd.concat(dfs)\n",
    "    return df\n",
    "\n",
    "# comment out the below\n",
    "# df = read_db_in_chunks(engine)\n",
    "## Read a portion"
   ]
  },
  {
   "cell_type": "markdown",
   "metadata": {},
   "source": [
    "# Read in one go\n",
    "set limit as `last_hours`"
   ]
  },
  {
   "cell_type": "code",
   "execution_count": 4,
   "metadata": {
    "pycharm": {
     "name": "#%%\n"
    }
   },
   "outputs": [],
   "source": [
    "# table_name='events'\n",
    "\n",
    "last_hours = 24\n",
    "df = pd.read_sql_query(f\"\"\"\n",
    "SELECT\n",
    "       to_timestamp(event_data::json -> 'new_state' ->> 'last_changed','YYYY-MM-DD\"T\"HH24:MI:SS.US') as last_changed,\n",
    "       event_data::json -> 'new_state' -> 'entity_id' as entity_id,\n",
    "       event_data::json -> 'new_state' -> 'attributes' -> 'node_id' as node_id,\n",
    "       event_data::json -> 'new_state' -> 'attributes' -> 'power_consumption' as power_consumption,\n",
    "       event_data::json -> 'new_state' -> 'attributes' -> 'unit_of_measurement' as unit\n",
    "FROM  events\n",
    "WHERE event_type like 'state_changed'\n",
    "AND event_data::json ->> 'entity_id' = 'sensor.aeon_labs_zw096_smart_switch_6_power_2'\n",
    "-- ORDER BY last_changed DESC limit 3600 * {last_hours}\n",
    ";\n",
    "\"\"\", con=engine)"
   ]
  },
  {
   "cell_type": "code",
   "execution_count": 5,
   "metadata": {},
   "outputs": [],
   "source": [
    "df['last_changed'] = pd.to_datetime(df['last_changed'], errors='coerce')\n",
    "df.dropna(subset=['last_changed'], inplace=True)\n",
    "df.set_index('last_changed', inplace=True)"
   ]
  },
  {
   "cell_type": "code",
   "execution_count": 6,
   "metadata": {},
   "outputs": [
    {
     "data": {
      "text/html": [
       "<div>\n",
       "<style scoped>\n",
       "    .dataframe tbody tr th:only-of-type {\n",
       "        vertical-align: middle;\n",
       "    }\n",
       "\n",
       "    .dataframe tbody tr th {\n",
       "        vertical-align: top;\n",
       "    }\n",
       "\n",
       "    .dataframe thead th {\n",
       "        text-align: right;\n",
       "    }\n",
       "</style>\n",
       "<table border=\"1\" class=\"dataframe\">\n",
       "  <thead>\n",
       "    <tr style=\"text-align: right;\">\n",
       "      <th></th>\n",
       "      <th>entity_id</th>\n",
       "      <th>node_id</th>\n",
       "      <th>power_consumption</th>\n",
       "      <th>unit</th>\n",
       "    </tr>\n",
       "    <tr>\n",
       "      <th>last_changed</th>\n",
       "      <th></th>\n",
       "      <th></th>\n",
       "      <th></th>\n",
       "      <th></th>\n",
       "    </tr>\n",
       "  </thead>\n",
       "  <tbody>\n",
       "    <tr>\n",
       "      <th>2020-05-30 14:32:48.779499+00:00</th>\n",
       "      <td>sensor.aeon_labs_zw096_smart_switch_6_power_2</td>\n",
       "      <td>5.0</td>\n",
       "      <td>16.826</td>\n",
       "      <td>W</td>\n",
       "    </tr>\n",
       "    <tr>\n",
       "      <th>2020-05-30 14:32:51.795031+00:00</th>\n",
       "      <td>sensor.aeon_labs_zw096_smart_switch_6_power_2</td>\n",
       "      <td>5.0</td>\n",
       "      <td>16.551</td>\n",
       "      <td>W</td>\n",
       "    </tr>\n",
       "    <tr>\n",
       "      <th>2020-05-30 14:32:54.798765+00:00</th>\n",
       "      <td>sensor.aeon_labs_zw096_smart_switch_6_power_2</td>\n",
       "      <td>5.0</td>\n",
       "      <td>16.770</td>\n",
       "      <td>W</td>\n",
       "    </tr>\n",
       "    <tr>\n",
       "      <th>2020-05-30 14:32:57.793024+00:00</th>\n",
       "      <td>sensor.aeon_labs_zw096_smart_switch_6_power_2</td>\n",
       "      <td>5.0</td>\n",
       "      <td>16.888</td>\n",
       "      <td>W</td>\n",
       "    </tr>\n",
       "    <tr>\n",
       "      <th>2020-05-30 14:33:00.791574+00:00</th>\n",
       "      <td>sensor.aeon_labs_zw096_smart_switch_6_power_2</td>\n",
       "      <td>5.0</td>\n",
       "      <td>16.677</td>\n",
       "      <td>W</td>\n",
       "    </tr>\n",
       "    <tr>\n",
       "      <th>...</th>\n",
       "      <td>...</td>\n",
       "      <td>...</td>\n",
       "      <td>...</td>\n",
       "      <td>...</td>\n",
       "    </tr>\n",
       "    <tr>\n",
       "      <th>2020-05-30 14:32:33.790128+00:00</th>\n",
       "      <td>sensor.aeon_labs_zw096_smart_switch_6_power_2</td>\n",
       "      <td>5.0</td>\n",
       "      <td>16.784</td>\n",
       "      <td>W</td>\n",
       "    </tr>\n",
       "    <tr>\n",
       "      <th>2020-05-30 14:32:36.793057+00:00</th>\n",
       "      <td>sensor.aeon_labs_zw096_smart_switch_6_power_2</td>\n",
       "      <td>5.0</td>\n",
       "      <td>16.675</td>\n",
       "      <td>W</td>\n",
       "    </tr>\n",
       "    <tr>\n",
       "      <th>2020-05-30 14:32:39.782380+00:00</th>\n",
       "      <td>sensor.aeon_labs_zw096_smart_switch_6_power_2</td>\n",
       "      <td>5.0</td>\n",
       "      <td>16.729</td>\n",
       "      <td>W</td>\n",
       "    </tr>\n",
       "    <tr>\n",
       "      <th>2020-05-30 14:32:42.790067+00:00</th>\n",
       "      <td>sensor.aeon_labs_zw096_smart_switch_6_power_2</td>\n",
       "      <td>5.0</td>\n",
       "      <td>16.778</td>\n",
       "      <td>W</td>\n",
       "    </tr>\n",
       "    <tr>\n",
       "      <th>2020-05-30 14:32:45.788001+00:00</th>\n",
       "      <td>sensor.aeon_labs_zw096_smart_switch_6_power_2</td>\n",
       "      <td>5.0</td>\n",
       "      <td>16.794</td>\n",
       "      <td>W</td>\n",
       "    </tr>\n",
       "  </tbody>\n",
       "</table>\n",
       "<p>253155 rows × 4 columns</p>\n",
       "</div>"
      ],
      "text/plain": [
       "                                                                      entity_id  \\\n",
       "last_changed                                                                      \n",
       "2020-05-30 14:32:48.779499+00:00  sensor.aeon_labs_zw096_smart_switch_6_power_2   \n",
       "2020-05-30 14:32:51.795031+00:00  sensor.aeon_labs_zw096_smart_switch_6_power_2   \n",
       "2020-05-30 14:32:54.798765+00:00  sensor.aeon_labs_zw096_smart_switch_6_power_2   \n",
       "2020-05-30 14:32:57.793024+00:00  sensor.aeon_labs_zw096_smart_switch_6_power_2   \n",
       "2020-05-30 14:33:00.791574+00:00  sensor.aeon_labs_zw096_smart_switch_6_power_2   \n",
       "...                                                                         ...   \n",
       "2020-05-30 14:32:33.790128+00:00  sensor.aeon_labs_zw096_smart_switch_6_power_2   \n",
       "2020-05-30 14:32:36.793057+00:00  sensor.aeon_labs_zw096_smart_switch_6_power_2   \n",
       "2020-05-30 14:32:39.782380+00:00  sensor.aeon_labs_zw096_smart_switch_6_power_2   \n",
       "2020-05-30 14:32:42.790067+00:00  sensor.aeon_labs_zw096_smart_switch_6_power_2   \n",
       "2020-05-30 14:32:45.788001+00:00  sensor.aeon_labs_zw096_smart_switch_6_power_2   \n",
       "\n",
       "                                  node_id  power_consumption unit  \n",
       "last_changed                                                       \n",
       "2020-05-30 14:32:48.779499+00:00      5.0             16.826    W  \n",
       "2020-05-30 14:32:51.795031+00:00      5.0             16.551    W  \n",
       "2020-05-30 14:32:54.798765+00:00      5.0             16.770    W  \n",
       "2020-05-30 14:32:57.793024+00:00      5.0             16.888    W  \n",
       "2020-05-30 14:33:00.791574+00:00      5.0             16.677    W  \n",
       "...                                   ...                ...  ...  \n",
       "2020-05-30 14:32:33.790128+00:00      5.0             16.784    W  \n",
       "2020-05-30 14:32:36.793057+00:00      5.0             16.675    W  \n",
       "2020-05-30 14:32:39.782380+00:00      5.0             16.729    W  \n",
       "2020-05-30 14:32:42.790067+00:00      5.0             16.778    W  \n",
       "2020-05-30 14:32:45.788001+00:00      5.0             16.794    W  \n",
       "\n",
       "[253155 rows x 4 columns]"
      ]
     },
     "execution_count": 6,
     "metadata": {},
     "output_type": "execute_result"
    }
   ],
   "source": [
    "df"
   ]
  },
  {
   "cell_type": "markdown",
   "metadata": {},
   "source": [
    "# Read from CSV\n",
    "when a DB export was made on the command line\n",
    "`source .env`\n",
    "`pg_dump -v -h $REMOTE_HOST -Fc -o -U $REMOTE_USER aq > pm_backup_20190713.sql`"
   ]
  },
  {
   "cell_type": "code",
   "execution_count": null,
   "metadata": {
    "pycharm": {
     "name": "#%%\n"
    }
   },
   "outputs": [],
   "source": [
    "# Read from CSV\n",
    "file_path = 'pm_backup_20190713.csv'\n",
    "# 88880001,3,,,Temperature,2019-07-10 09:39:08+00,1562751548000,31.9802398681641\n",
    "\n",
    "df = pd.read_csv(file_path, names=['last_changed','entity_id','node_id','power_consumption','unit_of_measurement'], header=None)"
   ]
  },
  {
   "cell_type": "code",
   "execution_count": null,
   "metadata": {
    "pycharm": {
     "name": "#%%\n"
    }
   },
   "outputs": [],
   "source": [
    "df.set_index('timestamp', inplace=True)"
   ]
  },
  {
   "cell_type": "code",
   "execution_count": null,
   "metadata": {
    "pycharm": {
     "name": "#%%\n"
    }
   },
   "outputs": [],
   "source": [
    "df = df.sort_index()"
   ]
  },
  {
   "cell_type": "code",
   "execution_count": null,
   "metadata": {
    "pycharm": {
     "name": "#%%\n"
    }
   },
   "outputs": [],
   "source": [
    "df.tail()"
   ]
  },
  {
   "cell_type": "markdown",
   "metadata": {},
   "source": [
    "# Write to HDF5\n",
    "to create a backup"
   ]
  },
  {
   "cell_type": "code",
   "execution_count": 8,
   "metadata": {
    "pycharm": {
     "name": "#%%\n"
    }
   },
   "outputs": [],
   "source": [
    "from datetime import datetime\n",
    "\n",
    "_date = datetime.today().strftime('%Y-%m-%d')"
   ]
  },
  {
   "cell_type": "code",
   "execution_count": 9,
   "metadata": {
    "pycharm": {
     "name": "#%%\n"
    }
   },
   "outputs": [
    {
     "name": "stderr",
     "output_type": "stream",
     "text": [
      "/Users/csxds/workspaces/venvs/power_monitor/lib/python3.6/site-packages/pandas/core/generic.py:2505: PerformanceWarning: \n",
      "your performance may suffer as PyTables will pickle object types that it cannot\n",
      "map directly to c-types [inferred_type->mixed,key->block1_values] [items->Index(['last_changed', 'entity_id', 'unit'], dtype='object')]\n",
      "\n",
      "  encoding=encoding,\n"
     ]
    }
   ],
   "source": [
    "df.to_hdf(f'pm_data_{_date}.h5', key='df', mode='w')"
   ]
  },
  {
   "cell_type": "markdown",
   "metadata": {},
   "source": [
    "# Read from HDF5\n",
    "to read a backup"
   ]
  },
  {
   "cell_type": "code",
   "execution_count": 10,
   "metadata": {},
   "outputs": [
    {
     "name": "stdout",
     "output_type": "stream",
     "text": [
      "README.md             pm_data_2020-05-31.h5 requirements.txt\r\n",
      "pm_data_2020-05-30.h5 power.pdf             visualise.ipynb\r\n"
     ]
    }
   ],
   "source": [
    "!ls"
   ]
  },
  {
   "cell_type": "code",
   "execution_count": 12,
   "metadata": {},
   "outputs": [],
   "source": [
    "hdf5_file = 'pm_data_2020-05-31.h5'"
   ]
  },
  {
   "cell_type": "code",
   "execution_count": 13,
   "metadata": {
    "pycharm": {
     "name": "#%%\n"
    }
   },
   "outputs": [],
   "source": [
    "df = pd.read_hdf(hdf5_file)"
   ]
  },
  {
   "cell_type": "code",
   "execution_count": 35,
   "metadata": {
    "pycharm": {
     "name": "#%%\n"
    }
   },
   "outputs": [
    {
     "data": {
      "text/plain": [
       "0.0"
      ]
     },
     "execution_count": 35,
     "metadata": {},
     "output_type": "execute_result"
    }
   ],
   "source": [
    "df.loc['2020-06-01':'2020-06-01'].between_time('8:00', '8:38')['power_consumption'].min()"
   ]
  },
  {
   "cell_type": "markdown",
   "metadata": {},
   "source": [
    "# Now do something with the data"
   ]
  },
  {
   "cell_type": "markdown",
   "metadata": {},
   "source": [
    "# Plot"
   ]
  },
  {
   "cell_type": "code",
   "execution_count": 10,
   "metadata": {},
   "outputs": [
    {
     "name": "stderr",
     "output_type": "stream",
     "text": [
      "/Users/shivangi/Documents/power_monitor/lib/python3.7/site-packages/ipykernel_launcher.py:12: UserWarning: Boolean Series key will be reindexed to match DataFrame index.\n",
      "  if sys.path[0] == '':\n"
     ]
    },
    {
     "data": {
      "text/plain": [
       "<matplotlib.axes._subplots.AxesSubplot at 0x1188aa610>"
      ]
     },
     "execution_count": 10,
     "metadata": {},
     "output_type": "execute_result"
    },
    {
     "data": {
      "image/png": "[encoded data removed]",
      "text/plain": [
       "<Figure size 432x288 with 1 Axes>"
      ]
     },
     "metadata": {
      "needs_background": "light"
     },
     "output_type": "display_data"
    }
   ],
   "source": [
    "# df_subset = df.loc['2020-06-01':'2020-06-01'].between_time('8:00', '8:38')[['power_consumption']]\n",
    "# df_subset[(df_subset != 0).all(1)].plot(ylim=(0,df_subset.max()*1.2))\n",
    "start_date = '2020-06-15'\n",
    "end_date = '2020-06-15'\n",
    "start_time = '18:00'\n",
    "end_time = '19:00'\n",
    "\n",
    "\n",
    "subset_df = df.loc[start_date:end_date].between_time(start_time, end_time)[['power_consumption']]\n",
    "y_max = subset_df['power_consumption'].max() * 1.2\n",
    "\n",
    "subset_df[(df != 0).all(1)].plot(ylim=(0,y_max))"
   ]
  },
  {
   "cell_type": "code",
   "execution_count": 8,
   "metadata": {},
   "outputs": [
    {
     "name": "stderr",
     "output_type": "stream",
     "text": [
      "/Users/shivangi/Documents/power_monitor/lib/python3.7/site-packages/ipykernel_launcher.py:1: UserWarning: Boolean Series key will be reindexed to match DataFrame index.\n",
      "  \"\"\"Entry point for launching an IPython kernel.\n"
     ]
    },
    {
     "data": {
      "text/html": [
       "<div>\n",
       "<style scoped>\n",
       "    .dataframe tbody tr th:only-of-type {\n",
       "        vertical-align: middle;\n",
       "    }\n",
       "\n",
       "    .dataframe tbody tr th {\n",
       "        vertical-align: top;\n",
       "    }\n",
       "\n",
       "    .dataframe thead th {\n",
       "        text-align: right;\n",
       "    }\n",
       "</style>\n",
       "<table border=\"1\" class=\"dataframe\">\n",
       "  <thead>\n",
       "    <tr style=\"text-align: right;\">\n",
       "      <th></th>\n",
       "      <th>power_consumption</th>\n",
       "    </tr>\n",
       "  </thead>\n",
       "  <tbody>\n",
       "    <tr>\n",
       "      <th>count</th>\n",
       "      <td>6000.000000</td>\n",
       "    </tr>\n",
       "    <tr>\n",
       "      <th>mean</th>\n",
       "      <td>83.898179</td>\n",
       "    </tr>\n",
       "    <tr>\n",
       "      <th>std</th>\n",
       "      <td>2.325509</td>\n",
       "    </tr>\n",
       "    <tr>\n",
       "      <th>min</th>\n",
       "      <td>81.214000</td>\n",
       "    </tr>\n",
       "    <tr>\n",
       "      <th>25%</th>\n",
       "      <td>83.044000</td>\n",
       "    </tr>\n",
       "    <tr>\n",
       "      <th>50%</th>\n",
       "      <td>83.501000</td>\n",
       "    </tr>\n",
       "    <tr>\n",
       "      <th>75%</th>\n",
       "      <td>84.027000</td>\n",
       "    </tr>\n",
       "    <tr>\n",
       "      <th>max</th>\n",
       "      <td>111.563000</td>\n",
       "    </tr>\n",
       "  </tbody>\n",
       "</table>\n",
       "</div>"
      ],
      "text/plain": [
       "       power_consumption\n",
       "count        6000.000000\n",
       "mean           83.898179\n",
       "std             2.325509\n",
       "min            81.214000\n",
       "25%            83.044000\n",
       "50%            83.501000\n",
       "75%            84.027000\n",
       "max           111.563000"
      ]
     },
     "execution_count": 8,
     "metadata": {},
     "output_type": "execute_result"
    }
   ],
   "source": [
    "subset_df[(df != 0).all(1)].describe()"
   ]
  },
  {
   "cell_type": "code",
   "execution_count": 24,
   "metadata": {
    "pycharm": {
     "name": "#%%\n"
    }
   },
   "outputs": [
    {
     "data": {
      "text/plain": [
       "<Figure size 432x288 with 0 Axes>"
      ]
     },
     "metadata": {},
     "output_type": "display_data"
    }
   ],
   "source": [
    "plt.savefig('power.pdf')"
   ]
  }
 ],
 "metadata": {
  "kernelspec": {
   "display_name": "Python 3",
   "language": "python",
   "name": "python3"
  },
  "language_info": {
   "codemirror_mode": {
    "name": "ipython",
    "version": 3
   },
   "file_extension": ".py",
   "mimetype": "text/x-python",
   "name": "python",
   "nbconvert_exporter": "python",
   "pygments_lexer": "ipython3",
   "version": "3.7.5"
  }
 },
 "nbformat": 4,
 "nbformat_minor": 1
}
