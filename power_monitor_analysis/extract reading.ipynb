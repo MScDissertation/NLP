{
 "cells": [
  {
   "cell_type": "code",
   "execution_count": 1,
   "metadata": {},
   "outputs": [],
   "source": [
    "%matplotlib inline\n",
    "import matplotlib\n",
    "import numpy as np\n",
    "import matplotlib.pyplot as plt\n",
    "\n",
    "import os\n",
    "\n",
    "import json\n",
    "import pandas as pd\n",
    "\n",
    "from sqlalchemy.types import TIMESTAMP as typeTIMESTAMP\n",
    "\n",
    "from dotenv import load_dotenv\n",
    "\n",
    "load_dotenv(verbose=True)\n",
    "\n",
    "import math\n",
    "import logging\n",
    "logger = logging.getLogger(__name__)\n",
    "\n",
    "import dateutil"
   ]
  },
  {
   "cell_type": "code",
   "execution_count": 2,
   "metadata": {},
   "outputs": [],
   "source": [
    "from sqlalchemy import create_engine\n",
    "REMOTE_HOST=os.getenv('REMOTE_HOST')\n",
    "REMOTE_DB_PASS=os.getenv('REMOTE_DB_PASS')\n",
    "REMOTE_USER=os.getenv('REMOTE_USER')\n",
    "DB_NAME=os.getenv('DB_NAME')\n",
    "\n",
    "engine = create_engine(f'postgresql+psycopg2://{REMOTE_USER}:{REMOTE_DB_PASS}@{REMOTE_HOST}/{DB_NAME}', server_side_cursors=True)"
   ]
  },
  {
   "cell_type": "code",
   "execution_count": 3,
   "metadata": {},
   "outputs": [],
   "source": [
    "table_name='events'\n",
    "\n",
    "last_hours = 1\n",
    "df = pd.read_sql_query(f\"\"\"\n",
    "SELECT\n",
    "       to_timestamp(event_data::json -> 'new_state' ->> 'last_changed','YYYY-MM-DD\"T\"HH24:MI:SS.US') as last_changed,\n",
    "       event_data::json -> 'new_state' -> 'entity_id' as entity_id,\n",
    "       event_data::json -> 'new_state' -> 'attributes' -> 'node_id' as node_id,\n",
    "       event_data::json -> 'new_state' -> 'attributes' -> 'power_consumption' as power_consumption,\n",
    "       event_data::json -> 'new_state' -> 'attributes' -> 'unit_of_measurement' as unit\n",
    "FROM  events\n",
    "WHERE event_type like 'state_changed'\n",
    "AND event_data::json ->> 'entity_id' = 'sensor.aeon_labs_zw096_smart_switch_6_power_2'\n",
    "-- ORDER BY last_changed DESC limit 3600 * {last_hours}\n",
    ";\n",
    "\"\"\", con=engine)"
   ]
  },
  {
   "cell_type": "code",
   "execution_count": 4,
   "metadata": {},
   "outputs": [],
   "source": [
    "df['last_changed'] = pd.to_datetime(df['last_changed'], errors='coerce')\n",
    "df.dropna(subset=['last_changed'], inplace=True)\n",
    "df.set_index('last_changed', inplace=True)"
   ]
  },
  {
   "cell_type": "markdown",
   "metadata": {},
   "source": [
    "Change file name before saving"
   ]
  },
  {
   "cell_type": "code",
   "execution_count": 5,
   "metadata": {},
   "outputs": [],
   "source": [
    "df.to_csv(\"../results/new-inference.csv\")"
   ]
  },
  {
   "cell_type": "code",
   "execution_count": null,
   "metadata": {},
   "outputs": [],
   "source": []
  }
 ],
 "metadata": {
  "kernelspec": {
   "display_name": "Python 3",
   "language": "python",
   "name": "python3"
  },
  "language_info": {
   "codemirror_mode": {
    "name": "ipython",
    "version": 3
   },
   "file_extension": ".py",
   "mimetype": "text/x-python",
   "name": "python",
   "nbconvert_exporter": "python",
   "pygments_lexer": "ipython3",
   "version": "3.7.5"
  }
 },
 "nbformat": 4,
 "nbformat_minor": 4
}
