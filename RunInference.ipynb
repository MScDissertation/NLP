{
 "cells": [
  {
   "cell_type": "markdown",
   "metadata": {},
   "source": [
    "## Inference code for glue tasks"
   ]
  },
  {
   "cell_type": "code",
   "execution_count": 1,
   "metadata": {},
   "outputs": [],
   "source": [
    "from transformers import *\n",
    "from random import seed\n",
    "from random import choice\n",
    "import datetime\n",
    "import torch\n",
    "import os\n",
    "import uuid"
   ]
  },
  {
   "cell_type": "code",
   "execution_count": 2,
   "metadata": {},
   "outputs": [],
   "source": [
    "# prep file to store time interval\n",
    "filename = 'inferenceTextClass1.csv'\n",
    "path = os.getcwd()\n",
    "path = path + '/logs/' + filename\n",
    "if os.path.exists(path):\n",
    "    id = uuid.uuid4()\n",
    "    renameFile = 'logs/' + filename.split(\".\")[0] + str(id) + '.csv'\n",
    "    os.rename(path, renameFile)\n",
    "with open(path, \"w\") as file1:\n",
    "    row = \"model\" + \",\" + \"start_time\" + \",\" + \"end_time\" + \"\\n\"\n",
    "    file1.writelines(row)"
   ]
  },
  {
   "cell_type": "code",
   "execution_count": 4,
   "metadata": {},
   "outputs": [],
   "source": [
    "def sample_text():\n",
    "    #from goodnight stories for rebel girls\n",
    "    text = \"Once upon a time, there was a girl named Ada who loved machines. She also loved the idea of flying. She studied birds to work out the perfect balance between wing size and body weight. She tested out materials and tried out several designs. She never managed to soar like a bird, but she created a beautiful book full of drawings called Flyology where she recorded all of her findings. One night, Ada went to a ball. There, she met a grumpy old mathematician named Charles Babbage. Ada was a brilliant mathematician herself, and the two soon became good friends. Charles invited Ada to see a machine he had invented. He called it the Difference Engine. It could automatically add and subtract numbers. No one had ever done that before. Ada was hooked. “What if we built a machine that could make more complicated calculations?” she said. Excited, Ada and Charles started working. The machine was huge and it required an enormous steam engine. Ada wanted to go further: “What if this machine could play music and show letters as well as numbers?” She was describing a computer, way before modern computers were invented! Ada wrote the first computer program in history.\\\n",
    "Once upon a time, there was a girl called Mary who wore whatever clothes she wanted: boots, pants, ties, shirts. At that time, girls were expected to wear tightly laced corsets and layers of petticoats under their skirts. It was hard to move or even breathe in clothes like that. But unlike all her friends’ parents, Mary’s mom and dad thought that everyone, including girls, should wear whatever they liked. Her father, a self-taught country doctor, thought that all of his children would be happier and healthier in comfortable trousers and shirts, especially in the hot, humid summers. Mary was happy about that—she much prefered boys’ clothes anyway.\\\n",
    "Mary, her sisters, and her brother were encouraged by their father to study. Mary wanted to be a doctor, so she attended medical school and graduated as one of the first female doctors in the United States. Mary married a fellow doctor and she wore trousers and a coat for their wedding, because she liked that outfit more than a traditional wedding dress. When the Civil War broke out, she stepped forward to serve in the Union Army. A few times, Mary was arrested for dressing in men’s clothes. But to Mary, those were just clothes—she just wore what she wanted. She saved many lives during the Civil War and was awarded a Congressional Medal of Honor once it had ended. She wore the medal her whole life, on the collar of her coat, next to her tie.\\\n",
    "Once upon a time, in India, there was a little girl called Mary. Mary’s family was very poor and struggled to put food on the table. Mary wanted to help her family live a better life, so she decided to become a boxer. One day, she boldly walked up to the coach in a boxing gym. “Will you train me?” she asked. “You’re too tiny,” he said. “Go away.” But when the coach finished for the day, he found her still waiting for him by the gate. “I want to do this. Put me in the ring,” she said to him. Reluctantly, he took her on and she started training hard. She started competing, and won many fights. But she hadn’t told her parents—she didn’t want to worry them. One day, her dad read about her in a newspaper. “Is this you?” he asked, worried. “Yes,” said Mary, proudly. “What if you get hurt?” her mother asked. “We don’t have the money for doctors!” “I will work hard, and save as much as I can. Don’t worry,” Mary replied. She slept in hostels, ate vegetables and rice because she could not afford meat, skipped breakfast because she only had money for lunch and dinner, and she became a champion. Her parents watched her fights on TV. Mary won medal after medal. She even won a medal at the Olympics! She made her village proud, and was able to provide for her family, just like she had dreamed when she was a child.\"\n",
    "    sentences = text.split(\".\")\n",
    "    return sentences"
   ]
  },
  {
   "cell_type": "code",
   "execution_count": 5,
   "metadata": {},
   "outputs": [
    {
     "name": "stdout",
     "output_type": "stream",
     "text": [
      "cuda\n"
     ]
    }
   ],
   "source": [
    "device = \"cpu\"\n",
    "if torch.cuda.is_available():\n",
    "    device = \"cuda\"\n",
    "print(device)"
   ]
  },
  {
   "cell_type": "code",
   "execution_count": 6,
   "metadata": {},
   "outputs": [],
   "source": [
    "def load_model(model_name):\n",
    "    tokenizer = AutoTokenizer.from_pretrained(model_name)\n",
    "    model = AutoModelForSequenceClassification.from_pretrained(model_name)\n",
    "    return tokenizer, model"
   ]
  },
  {
   "cell_type": "code",
   "execution_count": 26,
   "metadata": {},
   "outputs": [],
   "source": [
    "def single_sentence(tokenizer,model,sentences,modelname):\n",
    "    model.to(device)\n",
    "    start_time = datetime.datetime.now()\n",
    "    for i in range(50000):\n",
    "        sentence_0 = choice(sentences)\n",
    "\n",
    "        inputs_1 = tokenizer.encode_plus(sentence_0, add_special_tokens=True, return_tensors='pt').to(device)\n",
    "\n",
    "        pred_1 = model(inputs_1['input_ids'], token_type_ids=inputs_1['token_type_ids'])[0].argmax().item()\n",
    "\n",
    "    end_time = datetime.datetime.now()\n",
    "    print(start_time, end_time)\n",
    "    row = f\"{modelname},{start_time},{end_time}\\n\"\n",
    "    with open(path, \"a\") as file1:\n",
    "        file1.writelines(row)"
   ]
  },
  {
   "cell_type": "code",
   "execution_count": 27,
   "metadata": {},
   "outputs": [],
   "source": [
    "def two_sentences(tokenizer,model,sentences, modelname):\n",
    "    model.to(device)\n",
    "\n",
    "    start_time = datetime.datetime.now()\n",
    "    for i in range(50000):\n",
    "        sentence_0 = choice(sentences)\n",
    "        sentence_1 = choice(sentences)\n",
    "\n",
    "        inputs_1 = tokenizer.encode_plus(sentence_0, sentence_1, add_special_tokens=True, return_tensors='pt').to(device)\n",
    "\n",
    "        pred_1 = model(inputs_1['input_ids'], token_type_ids=inputs_1['token_type_ids'])[0].argmax().item()\n",
    "\n",
    "    end_time = datetime.datetime.now()\n",
    "    print(start_time, end_time)\n",
    "    row = f\"{modelname},{start_time},{end_time}\\n\"\n",
    "    with open(path, \"a\") as file1:\n",
    "        file1.writelines(row)"
   ]
  },
  {
   "cell_type": "code",
   "execution_count": 28,
   "metadata": {},
   "outputs": [],
   "source": [
    "sentences = sample_text()"
   ]
  },
  {
   "cell_type": "code",
   "execution_count": 29,
   "metadata": {},
   "outputs": [],
   "source": [
    "tokenizer, model = load_model(\"shivangi/MRPC_64_128_output\")"
   ]
  },
  {
   "cell_type": "code",
   "execution_count": 30,
   "metadata": {},
   "outputs": [],
   "source": [
    "get_ipython().system = os.system"
   ]
  },
  {
   "cell_type": "code",
   "execution_count": 31,
   "metadata": {},
   "outputs": [
    {
     "name": "stdout",
     "output_type": "stream",
     "text": [
      "2020-08-05 12:34:04.899817 2020-08-05 12:40:03.361838\n"
     ]
    },
    {
     "data": {
      "text/plain": [
       "0"
      ]
     },
     "execution_count": 31,
     "metadata": {},
     "output_type": "execute_result"
    }
   ],
   "source": [
    "## start nvidia-smi to record utilisation when inferencing, and kill at the end\n",
    "!sh nvidiasmi.sh MRPC &\n",
    "two_sentences(tokenizer,model,sentences, 'MRPC')\n",
    "!pkill nvidia-smi"
   ]
  },
  {
   "cell_type": "code",
   "execution_count": null,
   "metadata": {},
   "outputs": [
    {
     "name": "stdout",
     "output_type": "stream",
     "text": [
      "2020-08-05 12:40:08.689517 2020-08-05 12:46:06.375373\n",
      "2020-08-05 12:46:11.615604 2020-08-05 12:52:02.424696\n"
     ]
    },
    {
     "data": {
      "text/plain": [
       "0"
      ]
     },
     "execution_count": 32,
     "metadata": {},
     "output_type": "execute_result"
    }
   ],
   "source": [
    "tokenizer, model = load_model(\"shivangi/STS-B_64_128_output\")\n",
    "!sh nvidiasmi.sh STS-B &\n",
    "two_sentences(tokenizer,model,sentences, 'STS-B')\n",
    "!pkill nvidia-smi\n",
    "\n",
    "tokenizer, model = load_model(\"shivangi/CoLA_64_128_output\")\n",
    "!sh nvidiasmi.sh CoLA &\n",
    "single_sentence(tokenizer,model,sentences, 'CoLA')\n",
    "!pkill nvidia-smi"
   ]
  }
 ],
 "metadata": {
  "kernelspec": {
   "display_name": "Python 3",
   "language": "python",
   "name": "python3"
  },
  "language_info": {
   "codemirror_mode": {
    "name": "ipython",
    "version": 3
   },
   "file_extension": ".py",
   "mimetype": "text/x-python",
   "name": "python",
   "nbconvert_exporter": "python",
   "pygments_lexer": "ipython3",
   "version": "3.7.5"
  }
 },
 "nbformat": 4,
 "nbformat_minor": 4
}
