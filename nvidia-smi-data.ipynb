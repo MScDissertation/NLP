{
 "cells": [
  {
   "cell_type": "code",
   "execution_count": 1,
   "metadata": {},
   "outputs": [],
   "source": [
    "import pandas as pd\n",
    "import numpy as np"
   ]
  },
  {
   "cell_type": "code",
   "execution_count": 2,
   "metadata": {},
   "outputs": [],
   "source": [
    "url = 'nvidia/nvidia_power_1591550970.csv'"
   ]
  },
  {
   "cell_type": "code",
   "execution_count": 3,
   "metadata": {},
   "outputs": [],
   "source": [
    "df = pd.read_csv(url)"
   ]
  },
  {
   "cell_type": "code",
   "execution_count": 4,
   "metadata": {},
   "outputs": [
    {
     "data": {
      "text/html": [
       "<div>\n",
       "<style scoped>\n",
       "    .dataframe tbody tr th:only-of-type {\n",
       "        vertical-align: middle;\n",
       "    }\n",
       "\n",
       "    .dataframe tbody tr th {\n",
       "        vertical-align: top;\n",
       "    }\n",
       "\n",
       "    .dataframe thead th {\n",
       "        text-align: right;\n",
       "    }\n",
       "</style>\n",
       "<table border=\"1\" class=\"dataframe\">\n",
       "  <thead>\n",
       "    <tr style=\"text-align: right;\">\n",
       "      <th></th>\n",
       "      <th>timestamp</th>\n",
       "      <th>utilization.gpu [%]</th>\n",
       "      <th>utilization.memory [%]</th>\n",
       "      <th>memory.total [MiB]</th>\n",
       "      <th>memory.used [MiB]</th>\n",
       "      <th>memory.free [MiB]</th>\n",
       "      <th>power.draw [W]</th>\n",
       "    </tr>\n",
       "  </thead>\n",
       "  <tbody>\n",
       "    <tr>\n",
       "      <th>0</th>\n",
       "      <td>2020/06/07 18:29:30.819</td>\n",
       "      <td>0</td>\n",
       "      <td>0</td>\n",
       "      <td>11178</td>\n",
       "      <td>2</td>\n",
       "      <td>11176</td>\n",
       "      <td>10.09</td>\n",
       "    </tr>\n",
       "    <tr>\n",
       "      <th>1</th>\n",
       "      <td>2020/06/07 18:29:30.823</td>\n",
       "      <td>0</td>\n",
       "      <td>0</td>\n",
       "      <td>11176</td>\n",
       "      <td>18</td>\n",
       "      <td>11158</td>\n",
       "      <td>11.07</td>\n",
       "    </tr>\n",
       "    <tr>\n",
       "      <th>2</th>\n",
       "      <td>2020/06/07 18:29:35.827</td>\n",
       "      <td>0</td>\n",
       "      <td>0</td>\n",
       "      <td>11178</td>\n",
       "      <td>2</td>\n",
       "      <td>11176</td>\n",
       "      <td>10.00</td>\n",
       "    </tr>\n",
       "    <tr>\n",
       "      <th>3</th>\n",
       "      <td>2020/06/07 18:29:35.830</td>\n",
       "      <td>0</td>\n",
       "      <td>0</td>\n",
       "      <td>11176</td>\n",
       "      <td>18</td>\n",
       "      <td>11158</td>\n",
       "      <td>10.49</td>\n",
       "    </tr>\n",
       "    <tr>\n",
       "      <th>4</th>\n",
       "      <td>2020/06/07 18:29:40.834</td>\n",
       "      <td>0</td>\n",
       "      <td>0</td>\n",
       "      <td>11178</td>\n",
       "      <td>2</td>\n",
       "      <td>11176</td>\n",
       "      <td>10.58</td>\n",
       "    </tr>\n",
       "  </tbody>\n",
       "</table>\n",
       "</div>"
      ],
      "text/plain": [
       "                 timestamp   utilization.gpu [%]   utilization.memory [%]  \\\n",
       "0  2020/06/07 18:29:30.819                     0                        0   \n",
       "1  2020/06/07 18:29:30.823                     0                        0   \n",
       "2  2020/06/07 18:29:35.827                     0                        0   \n",
       "3  2020/06/07 18:29:35.830                     0                        0   \n",
       "4  2020/06/07 18:29:40.834                     0                        0   \n",
       "\n",
       "    memory.total [MiB]   memory.used [MiB]   memory.free [MiB]  \\\n",
       "0                11178                   2               11176   \n",
       "1                11176                  18               11158   \n",
       "2                11178                   2               11176   \n",
       "3                11176                  18               11158   \n",
       "4                11178                   2               11176   \n",
       "\n",
       "    power.draw [W]  \n",
       "0            10.09  \n",
       "1            11.07  \n",
       "2            10.00  \n",
       "3            10.49  \n",
       "4            10.58  "
      ]
     },
     "execution_count": 4,
     "metadata": {},
     "output_type": "execute_result"
    }
   ],
   "source": [
    "df.head()"
   ]
  },
  {
   "cell_type": "code",
   "execution_count": 5,
   "metadata": {},
   "outputs": [
    {
     "data": {
      "text/html": [
       "<div>\n",
       "<style scoped>\n",
       "    .dataframe tbody tr th:only-of-type {\n",
       "        vertical-align: middle;\n",
       "    }\n",
       "\n",
       "    .dataframe tbody tr th {\n",
       "        vertical-align: top;\n",
       "    }\n",
       "\n",
       "    .dataframe thead th {\n",
       "        text-align: right;\n",
       "    }\n",
       "</style>\n",
       "<table border=\"1\" class=\"dataframe\">\n",
       "  <thead>\n",
       "    <tr style=\"text-align: right;\">\n",
       "      <th></th>\n",
       "      <th>utilization.gpu [%]</th>\n",
       "      <th>utilization.memory [%]</th>\n",
       "      <th>memory.total [MiB]</th>\n",
       "      <th>memory.used [MiB]</th>\n",
       "      <th>memory.free [MiB]</th>\n",
       "      <th>power.draw [W]</th>\n",
       "    </tr>\n",
       "  </thead>\n",
       "  <tbody>\n",
       "    <tr>\n",
       "      <th>count</th>\n",
       "      <td>44.000000</td>\n",
       "      <td>44.000000</td>\n",
       "      <td>44.000000</td>\n",
       "      <td>44.000000</td>\n",
       "      <td>44.000000</td>\n",
       "      <td>44.000000</td>\n",
       "    </tr>\n",
       "    <tr>\n",
       "      <th>mean</th>\n",
       "      <td>66.863636</td>\n",
       "      <td>22.000000</td>\n",
       "      <td>11177.000000</td>\n",
       "      <td>3826.204545</td>\n",
       "      <td>7350.795455</td>\n",
       "      <td>161.671818</td>\n",
       "    </tr>\n",
       "    <tr>\n",
       "      <th>std</th>\n",
       "      <td>42.136871</td>\n",
       "      <td>16.285248</td>\n",
       "      <td>1.011561</td>\n",
       "      <td>2432.744393</td>\n",
       "      <td>2432.540528</td>\n",
       "      <td>104.779465</td>\n",
       "    </tr>\n",
       "    <tr>\n",
       "      <th>min</th>\n",
       "      <td>0.000000</td>\n",
       "      <td>0.000000</td>\n",
       "      <td>11176.000000</td>\n",
       "      <td>2.000000</td>\n",
       "      <td>5233.000000</td>\n",
       "      <td>10.000000</td>\n",
       "    </tr>\n",
       "    <tr>\n",
       "      <th>25%</th>\n",
       "      <td>0.000000</td>\n",
       "      <td>0.000000</td>\n",
       "      <td>11176.000000</td>\n",
       "      <td>26.250000</td>\n",
       "      <td>5251.000000</td>\n",
       "      <td>64.210000</td>\n",
       "    </tr>\n",
       "    <tr>\n",
       "      <th>50%</th>\n",
       "      <td>94.500000</td>\n",
       "      <td>25.000000</td>\n",
       "      <td>11177.000000</td>\n",
       "      <td>4594.000000</td>\n",
       "      <td>6582.000000</td>\n",
       "      <td>226.600000</td>\n",
       "    </tr>\n",
       "    <tr>\n",
       "      <th>75%</th>\n",
       "      <td>97.000000</td>\n",
       "      <td>36.250000</td>\n",
       "      <td>11178.000000</td>\n",
       "      <td>5927.000000</td>\n",
       "      <td>11149.750000</td>\n",
       "      <td>250.152500</td>\n",
       "    </tr>\n",
       "    <tr>\n",
       "      <th>max</th>\n",
       "      <td>100.000000</td>\n",
       "      <td>46.000000</td>\n",
       "      <td>11178.000000</td>\n",
       "      <td>5945.000000</td>\n",
       "      <td>11176.000000</td>\n",
       "      <td>279.200000</td>\n",
       "    </tr>\n",
       "  </tbody>\n",
       "</table>\n",
       "</div>"
      ],
      "text/plain": [
       "        utilization.gpu [%]   utilization.memory [%]   memory.total [MiB]  \\\n",
       "count             44.000000                44.000000            44.000000   \n",
       "mean              66.863636                22.000000         11177.000000   \n",
       "std               42.136871                16.285248             1.011561   \n",
       "min                0.000000                 0.000000         11176.000000   \n",
       "25%                0.000000                 0.000000         11176.000000   \n",
       "50%               94.500000                25.000000         11177.000000   \n",
       "75%               97.000000                36.250000         11178.000000   \n",
       "max              100.000000                46.000000         11178.000000   \n",
       "\n",
       "        memory.used [MiB]   memory.free [MiB]   power.draw [W]  \n",
       "count           44.000000           44.000000        44.000000  \n",
       "mean          3826.204545         7350.795455       161.671818  \n",
       "std           2432.744393         2432.540528       104.779465  \n",
       "min              2.000000         5233.000000        10.000000  \n",
       "25%             26.250000         5251.000000        64.210000  \n",
       "50%           4594.000000         6582.000000       226.600000  \n",
       "75%           5927.000000        11149.750000       250.152500  \n",
       "max           5945.000000        11176.000000       279.200000  "
      ]
     },
     "execution_count": 5,
     "metadata": {},
     "output_type": "execute_result"
    }
   ],
   "source": [
    "df.describe()"
   ]
  },
  {
   "cell_type": "code",
   "execution_count": 6,
   "metadata": {},
   "outputs": [
    {
     "data": {
      "text/plain": [
       "Index(['timestamp', ' utilization.gpu [%]', ' utilization.memory [%]',\n",
       "       ' memory.total [MiB]', ' memory.used [MiB]', ' memory.free [MiB]',\n",
       "       ' power.draw [W]'],\n",
       "      dtype='object')"
      ]
     },
     "execution_count": 6,
     "metadata": {},
     "output_type": "execute_result"
    }
   ],
   "source": [
    "df.columns"
   ]
  },
  {
   "cell_type": "code",
   "execution_count": 7,
   "metadata": {},
   "outputs": [],
   "source": [
    "df = df.loc[df[\" utilization.gpu [%]\"] >= 50]"
   ]
  },
  {
   "cell_type": "code",
   "execution_count": 8,
   "metadata": {},
   "outputs": [
    {
     "data": {
      "text/html": [
       "<div>\n",
       "<style scoped>\n",
       "    .dataframe tbody tr th:only-of-type {\n",
       "        vertical-align: middle;\n",
       "    }\n",
       "\n",
       "    .dataframe tbody tr th {\n",
       "        vertical-align: top;\n",
       "    }\n",
       "\n",
       "    .dataframe thead th {\n",
       "        text-align: right;\n",
       "    }\n",
       "</style>\n",
       "<table border=\"1\" class=\"dataframe\">\n",
       "  <thead>\n",
       "    <tr style=\"text-align: right;\">\n",
       "      <th></th>\n",
       "      <th>utilization.gpu [%]</th>\n",
       "      <th>utilization.memory [%]</th>\n",
       "      <th>memory.total [MiB]</th>\n",
       "      <th>memory.used [MiB]</th>\n",
       "      <th>memory.free [MiB]</th>\n",
       "      <th>power.draw [W]</th>\n",
       "    </tr>\n",
       "  </thead>\n",
       "  <tbody>\n",
       "    <tr>\n",
       "      <th>count</th>\n",
       "      <td>32.000000</td>\n",
       "      <td>32.000000</td>\n",
       "      <td>32.000000</td>\n",
       "      <td>32.000000</td>\n",
       "      <td>32.000000</td>\n",
       "      <td>32.000000</td>\n",
       "    </tr>\n",
       "    <tr>\n",
       "      <th>mean</th>\n",
       "      <td>91.937500</td>\n",
       "      <td>30.250000</td>\n",
       "      <td>11177.000000</td>\n",
       "      <td>5256.625000</td>\n",
       "      <td>5920.375000</td>\n",
       "      <td>214.652813</td>\n",
       "    </tr>\n",
       "    <tr>\n",
       "      <th>std</th>\n",
       "      <td>9.122597</td>\n",
       "      <td>10.500384</td>\n",
       "      <td>1.016001</td>\n",
       "      <td>681.732411</td>\n",
       "      <td>680.717731</td>\n",
       "      <td>66.751981</td>\n",
       "    </tr>\n",
       "    <tr>\n",
       "      <th>min</th>\n",
       "      <td>77.000000</td>\n",
       "      <td>10.000000</td>\n",
       "      <td>11176.000000</td>\n",
       "      <td>4570.000000</td>\n",
       "      <td>5233.000000</td>\n",
       "      <td>83.780000</td>\n",
       "    </tr>\n",
       "    <tr>\n",
       "      <th>25%</th>\n",
       "      <td>79.500000</td>\n",
       "      <td>20.750000</td>\n",
       "      <td>11176.000000</td>\n",
       "      <td>4594.000000</td>\n",
       "      <td>5233.000000</td>\n",
       "      <td>169.757500</td>\n",
       "    </tr>\n",
       "    <tr>\n",
       "      <th>50%</th>\n",
       "      <td>96.500000</td>\n",
       "      <td>33.000000</td>\n",
       "      <td>11177.000000</td>\n",
       "      <td>5171.500000</td>\n",
       "      <td>6005.500000</td>\n",
       "      <td>246.580000</td>\n",
       "    </tr>\n",
       "    <tr>\n",
       "      <th>75%</th>\n",
       "      <td>98.250000</td>\n",
       "      <td>38.000000</td>\n",
       "      <td>11178.000000</td>\n",
       "      <td>5945.000000</td>\n",
       "      <td>6582.000000</td>\n",
       "      <td>254.675000</td>\n",
       "    </tr>\n",
       "    <tr>\n",
       "      <th>max</th>\n",
       "      <td>100.000000</td>\n",
       "      <td>46.000000</td>\n",
       "      <td>11178.000000</td>\n",
       "      <td>5945.000000</td>\n",
       "      <td>6606.000000</td>\n",
       "      <td>279.200000</td>\n",
       "    </tr>\n",
       "  </tbody>\n",
       "</table>\n",
       "</div>"
      ],
      "text/plain": [
       "        utilization.gpu [%]   utilization.memory [%]   memory.total [MiB]  \\\n",
       "count             32.000000                32.000000            32.000000   \n",
       "mean              91.937500                30.250000         11177.000000   \n",
       "std                9.122597                10.500384             1.016001   \n",
       "min               77.000000                10.000000         11176.000000   \n",
       "25%               79.500000                20.750000         11176.000000   \n",
       "50%               96.500000                33.000000         11177.000000   \n",
       "75%               98.250000                38.000000         11178.000000   \n",
       "max              100.000000                46.000000         11178.000000   \n",
       "\n",
       "        memory.used [MiB]   memory.free [MiB]   power.draw [W]  \n",
       "count           32.000000           32.000000        32.000000  \n",
       "mean          5256.625000         5920.375000       214.652813  \n",
       "std            681.732411          680.717731        66.751981  \n",
       "min           4570.000000         5233.000000        83.780000  \n",
       "25%           4594.000000         5233.000000       169.757500  \n",
       "50%           5171.500000         6005.500000       246.580000  \n",
       "75%           5945.000000         6582.000000       254.675000  \n",
       "max           5945.000000         6606.000000       279.200000  "
      ]
     },
     "execution_count": 8,
     "metadata": {},
     "output_type": "execute_result"
    }
   ],
   "source": [
    "df.describe()"
   ]
  },
  {
   "cell_type": "code",
   "execution_count": 9,
   "metadata": {},
   "outputs": [],
   "source": [
    "from datetime import datetime\n",
    "from datetime import timedelta\n",
    "df.timestamp = [datetime.strptime(time, \"%Y/%m/%d %H:%M:%S.%f\") for time in df.timestamp]"
   ]
  },
  {
   "cell_type": "code",
   "execution_count": 10,
   "metadata": {},
   "outputs": [],
   "source": [
    "time_interval = df.iloc[-1].timestamp - df.iloc[0].timestamp"
   ]
  },
  {
   "cell_type": "code",
   "execution_count": 11,
   "metadata": {},
   "outputs": [
    {
     "data": {
      "text/plain": [
       "75.197"
      ]
     },
     "execution_count": 11,
     "metadata": {},
     "output_type": "execute_result"
    }
   ],
   "source": [
    "time_interval.total_seconds()"
   ]
  },
  {
   "cell_type": "code",
   "execution_count": 12,
   "metadata": {},
   "outputs": [],
   "source": [
    "total_power = df[' power.draw [W]'].mean() * time_interval.total_seconds()"
   ]
  },
  {
   "cell_type": "code",
   "execution_count": 13,
   "metadata": {},
   "outputs": [
    {
     "data": {
      "text/plain": [
       "16141.247541562503"
      ]
     },
     "execution_count": 13,
     "metadata": {},
     "output_type": "execute_result"
    }
   ],
   "source": [
    "total_power"
   ]
  },
  {
   "cell_type": "code",
   "execution_count": null,
   "metadata": {},
   "outputs": [],
   "source": []
  }
 ],
 "metadata": {
  "kernelspec": {
   "display_name": "Python 3",
   "language": "python",
   "name": "python3"
  },
  "language_info": {
   "codemirror_mode": {
    "name": "ipython",
    "version": 3
   },
   "file_extension": ".py",
   "mimetype": "text/x-python",
   "name": "python",
   "nbconvert_exporter": "python",
   "pygments_lexer": "ipython3",
   "version": "3.7.7"
  }
 },
 "nbformat": 4,
 "nbformat_minor": 4
}
