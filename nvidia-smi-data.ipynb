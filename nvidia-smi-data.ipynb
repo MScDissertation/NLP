{
 "cells": [
  {
   "cell_type": "code",
   "execution_count": 7,
   "metadata": {},
   "outputs": [],
   "source": [
    "import pandas as pd\n",
    "import numpy as np\n",
    "from datetime import datetime\n",
    "from datetime import timedelta"
   ]
  },
  {
   "cell_type": "code",
   "execution_count": 8,
   "metadata": {},
   "outputs": [],
   "source": [
    "def read_data(url):\n",
    "    df = pd.read_csv(url)\n",
    "    df = df.loc[df[\" utilization.gpu [%]\"] > 0]\n",
    "    #print(df.columns)\n",
    "    return df"
   ]
  },
  {
   "cell_type": "code",
   "execution_count": 9,
   "metadata": {},
   "outputs": [],
   "source": [
    "def time_duration(df):\n",
    "    df.timestamp = [datetime.strptime(time, \"%Y/%m/%d %H:%M:%S.%f\") for time in df.timestamp]\n",
    "    time_interval = df.iloc[-1].timestamp - df.iloc[0].timestamp\n",
    "    print(\"Total time in seconds: {}\".format(time_interval.total_seconds()))\n",
    "    return time_interval.total_seconds()"
   ]
  },
  {
   "cell_type": "code",
   "execution_count": 10,
   "metadata": {},
   "outputs": [],
   "source": [
    "def power_reading(url):\n",
    "    df = read_data(url)\n",
    "    time_interval = time_duration(df)\n",
    "    mean_power =df[' power.draw [W]'].mean()\n",
    "    total_power = mean_power * time_interval\n",
    "    print (\"Mean Power consumption (Watt): {}\".format(mean_power))\n",
    "    print(\"Total Power consumption (Watt second): {}\".format(total_power))\n",
    "    return df, time_interval, mean_power, total_power"
   ]
  },
  {
   "cell_type": "code",
   "execution_count": 11,
   "metadata": {},
   "outputs": [
    {
     "name": "stdout",
     "output_type": "stream",
     "text": [
      "Total time in seconds: 175.41\n",
      "Mean Power consumption (Watt): 195.89942857142861\n",
      "Total Power consumption (Watt second): 34362.71876571429\n"
     ]
    }
   ],
   "source": [
    "url = 'nvidia/nvidia_power_cola_32.csv'\n",
    "df, time_interval, mean_power, total_power = power_reading(url)"
   ]
  },
  {
   "cell_type": "code",
   "execution_count": 12,
   "metadata": {},
   "outputs": [
    {
     "name": "stdout",
     "output_type": "stream",
     "text": [
      "Total time in seconds: 140.336\n",
      "Mean Power consumption (Watt): 223.95206896551724\n",
      "Total Power consumption (Watt second): 31428.53755034483\n"
     ]
    }
   ],
   "source": [
    "url = 'nvidia/nvidia_power_cola_64.csv'\n",
    "df, time_interval, mean_power, total_power = power_reading(url)"
   ]
  },
  {
   "cell_type": "code",
   "execution_count": 13,
   "metadata": {},
   "outputs": [
    {
     "name": "stdout",
     "output_type": "stream",
     "text": [
      "Total time in seconds: 75.197\n",
      "Mean Power consumption (Watt): 214.65281250000004\n",
      "Total Power consumption (Watt second): 16141.247541562503\n"
     ]
    }
   ],
   "source": [
    "url = 'nvidia/nvidia_power_mrpc_32.csv'\n",
    "df, time_interval, mean_power, total_power = power_reading(url)"
   ]
  },
  {
   "cell_type": "code",
   "execution_count": null,
   "metadata": {},
   "outputs": [],
   "source": []
  }
 ],
 "metadata": {
  "kernelspec": {
   "display_name": "Python 3",
   "language": "python",
   "name": "python3"
  },
  "language_info": {
   "codemirror_mode": {
    "name": "ipython",
    "version": 3
   },
   "file_extension": ".py",
   "mimetype": "text/x-python",
   "name": "python",
   "nbconvert_exporter": "python",
   "pygments_lexer": "ipython3",
   "version": "3.7.7"
  }
 },
 "nbformat": 4,
 "nbformat_minor": 4
}
