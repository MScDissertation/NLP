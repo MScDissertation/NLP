{
 "cells": [
  {
   "cell_type": "code",
   "execution_count": 1,
   "metadata": {},
   "outputs": [],
   "source": [
    "import pandas as pd\n",
    "import numpy as np\n",
    "from datetime import datetime\n",
    "from datetime import timedelta\n",
    "import matplotlib as mpl\n",
    "import matplotlib.pyplot as plt\n",
    "import seaborn as sns\n",
    "\n",
    "%matplotlib inline\n",
    "%config InlineBackend.figure_format='retina'\n",
    "\n",
    "mpl.rcParams['savefig.dpi'] = 300\n",
    "mpl.rcParams['font.size'] = 12\n",
    "\n",
    "plt.style.use('tableau-colorblind10')"
   ]
  },
  {
   "cell_type": "code",
   "execution_count": 2,
   "metadata": {},
   "outputs": [],
   "source": [
    "df_reading = pd.read_csv(\"logs/power_reading_glue.csv\")"
   ]
  },
  {
   "cell_type": "code",
   "execution_count": 3,
   "metadata": {},
   "outputs": [],
   "source": [
    "df_reading['last_changed'] = pd.to_datetime(df_reading['last_changed'], errors='coerce')\n",
    "df_reading.dropna(subset=['last_changed'], inplace=True)\n",
    "df_reading.set_index('last_changed', inplace=True)"
   ]
  },
  {
   "cell_type": "code",
   "execution_count": 4,
   "metadata": {},
   "outputs": [],
   "source": [
    "df_time_interval = pd.read_csv(\"logs/inferenceTextClass13f4c3e6-cf47-4901-8512-8d8c0c0f909d.csv\")"
   ]
  },
  {
   "cell_type": "code",
   "execution_count": 5,
   "metadata": {},
   "outputs": [
    {
     "data": {
      "text/html": [
       "<div>\n",
       "<style scoped>\n",
       "    .dataframe tbody tr th:only-of-type {\n",
       "        vertical-align: middle;\n",
       "    }\n",
       "\n",
       "    .dataframe tbody tr th {\n",
       "        vertical-align: top;\n",
       "    }\n",
       "\n",
       "    .dataframe thead th {\n",
       "        text-align: right;\n",
       "    }\n",
       "</style>\n",
       "<table border=\"1\" class=\"dataframe\">\n",
       "  <thead>\n",
       "    <tr style=\"text-align: right;\">\n",
       "      <th></th>\n",
       "      <th>model</th>\n",
       "      <th>start_time</th>\n",
       "      <th>end_time</th>\n",
       "      <th>start_seconds</th>\n",
       "      <th>end_seconds</th>\n",
       "      <th>total_time</th>\n",
       "    </tr>\n",
       "  </thead>\n",
       "  <tbody>\n",
       "    <tr>\n",
       "      <th>0</th>\n",
       "      <td>MRPC</td>\n",
       "      <td>2020-06-29 23:41:36.427207</td>\n",
       "      <td>2020-06-29 23:42:31.367912</td>\n",
       "      <td>2020-06-29 22:41:36.427207</td>\n",
       "      <td>2020-06-29 22:42:31.367912</td>\n",
       "      <td>54.940705</td>\n",
       "    </tr>\n",
       "    <tr>\n",
       "      <th>1</th>\n",
       "      <td>STS-B</td>\n",
       "      <td>2020-06-29 23:43:50.022453</td>\n",
       "      <td>2020-06-29 23:44:45.388476</td>\n",
       "      <td>2020-06-29 22:43:50.022453</td>\n",
       "      <td>2020-06-29 22:44:45.388476</td>\n",
       "      <td>55.366023</td>\n",
       "    </tr>\n",
       "    <tr>\n",
       "      <th>2</th>\n",
       "      <td>CoLA</td>\n",
       "      <td>2020-06-29 23:45:01.687218</td>\n",
       "      <td>2020-06-29 23:45:48.487155</td>\n",
       "      <td>2020-06-29 22:45:01.687218</td>\n",
       "      <td>2020-06-29 22:45:48.487155</td>\n",
       "      <td>46.799937</td>\n",
       "    </tr>\n",
       "  </tbody>\n",
       "</table>\n",
       "</div>"
      ],
      "text/plain": [
       "   model                  start_time                    end_time  \\\n",
       "0   MRPC  2020-06-29 23:41:36.427207  2020-06-29 23:42:31.367912   \n",
       "1  STS-B  2020-06-29 23:43:50.022453  2020-06-29 23:44:45.388476   \n",
       "2   CoLA  2020-06-29 23:45:01.687218  2020-06-29 23:45:48.487155   \n",
       "\n",
       "               start_seconds                end_seconds  total_time  \n",
       "0 2020-06-29 22:41:36.427207 2020-06-29 22:42:31.367912   54.940705  \n",
       "1 2020-06-29 22:43:50.022453 2020-06-29 22:44:45.388476   55.366023  \n",
       "2 2020-06-29 22:45:01.687218 2020-06-29 22:45:48.487155   46.799937  "
      ]
     },
     "execution_count": 5,
     "metadata": {},
     "output_type": "execute_result"
    }
   ],
   "source": [
    "df_time_interval['start_seconds']= [datetime.strptime(start_time, \"%Y-%m-%d %H:%M:%S.%f\") - timedelta(hours=1, minutes=0)\n",
    "                                  for start_time in df_time_interval.start_time]\n",
    "df_time_interval['end_seconds'] = [datetime.strptime(end_time, \"%Y-%m-%d %H:%M:%S.%f\") - timedelta(hours=1, minutes=0)\n",
    "                                for end_time in df_time_interval.end_time]\n",
    "df_time_interval['total_time'] = df_time_interval['end_seconds'] - df_time_interval['start_seconds']\n",
    "df_time_interval['total_time'] = df_time_interval['total_time'].apply(lambda x: x.total_seconds())\n",
    "df_time_interval.head()"
   ]
  },
  {
   "cell_type": "code",
   "execution_count": 6,
   "metadata": {},
   "outputs": [
    {
     "data": {
      "text/html": [
       "<div>\n",
       "<style scoped>\n",
       "    .dataframe tbody tr th:only-of-type {\n",
       "        vertical-align: middle;\n",
       "    }\n",
       "\n",
       "    .dataframe tbody tr th {\n",
       "        vertical-align: top;\n",
       "    }\n",
       "\n",
       "    .dataframe thead th {\n",
       "        text-align: right;\n",
       "    }\n",
       "</style>\n",
       "<table border=\"1\" class=\"dataframe\">\n",
       "  <thead>\n",
       "    <tr style=\"text-align: right;\">\n",
       "      <th></th>\n",
       "      <th>model</th>\n",
       "      <th>start_time</th>\n",
       "      <th>end_time</th>\n",
       "      <th>start_seconds</th>\n",
       "      <th>end_seconds</th>\n",
       "      <th>total_time</th>\n",
       "      <th>s_date</th>\n",
       "      <th>e_date</th>\n",
       "      <th>s_time</th>\n",
       "      <th>e_time</th>\n",
       "    </tr>\n",
       "  </thead>\n",
       "  <tbody>\n",
       "    <tr>\n",
       "      <th>0</th>\n",
       "      <td>MRPC</td>\n",
       "      <td>2020-06-29 23:41:36.427207</td>\n",
       "      <td>2020-06-29 23:42:31.367912</td>\n",
       "      <td>2020-06-29 22:41:36.427207</td>\n",
       "      <td>2020-06-29 22:42:31.367912</td>\n",
       "      <td>54.940705</td>\n",
       "      <td>2020-06-29</td>\n",
       "      <td>2020-06-29</td>\n",
       "      <td>22:41:36</td>\n",
       "      <td>22:42:31</td>\n",
       "    </tr>\n",
       "    <tr>\n",
       "      <th>1</th>\n",
       "      <td>STS-B</td>\n",
       "      <td>2020-06-29 23:43:50.022453</td>\n",
       "      <td>2020-06-29 23:44:45.388476</td>\n",
       "      <td>2020-06-29 22:43:50.022453</td>\n",
       "      <td>2020-06-29 22:44:45.388476</td>\n",
       "      <td>55.366023</td>\n",
       "      <td>2020-06-29</td>\n",
       "      <td>2020-06-29</td>\n",
       "      <td>22:43:50</td>\n",
       "      <td>22:44:45</td>\n",
       "    </tr>\n",
       "    <tr>\n",
       "      <th>2</th>\n",
       "      <td>CoLA</td>\n",
       "      <td>2020-06-29 23:45:01.687218</td>\n",
       "      <td>2020-06-29 23:45:48.487155</td>\n",
       "      <td>2020-06-29 22:45:01.687218</td>\n",
       "      <td>2020-06-29 22:45:48.487155</td>\n",
       "      <td>46.799937</td>\n",
       "      <td>2020-06-29</td>\n",
       "      <td>2020-06-29</td>\n",
       "      <td>22:45:01</td>\n",
       "      <td>22:45:48</td>\n",
       "    </tr>\n",
       "  </tbody>\n",
       "</table>\n",
       "</div>"
      ],
      "text/plain": [
       "   model                  start_time                    end_time  \\\n",
       "0   MRPC  2020-06-29 23:41:36.427207  2020-06-29 23:42:31.367912   \n",
       "1  STS-B  2020-06-29 23:43:50.022453  2020-06-29 23:44:45.388476   \n",
       "2   CoLA  2020-06-29 23:45:01.687218  2020-06-29 23:45:48.487155   \n",
       "\n",
       "               start_seconds                end_seconds  total_time  \\\n",
       "0 2020-06-29 22:41:36.427207 2020-06-29 22:42:31.367912   54.940705   \n",
       "1 2020-06-29 22:43:50.022453 2020-06-29 22:44:45.388476   55.366023   \n",
       "2 2020-06-29 22:45:01.687218 2020-06-29 22:45:48.487155   46.799937   \n",
       "\n",
       "       s_date      e_date    s_time    e_time  \n",
       "0  2020-06-29  2020-06-29  22:41:36  22:42:31  \n",
       "1  2020-06-29  2020-06-29  22:43:50  22:44:45  \n",
       "2  2020-06-29  2020-06-29  22:45:01  22:45:48  "
      ]
     },
     "execution_count": 6,
     "metadata": {},
     "output_type": "execute_result"
    }
   ],
   "source": [
    "df_time_interval['s_date'] = [x.date().strftime(\"%Y-%m-%d\") for x in df_time_interval[\"start_seconds\"]]\n",
    "df_time_interval['e_date'] = [x.date().strftime(\"%Y-%m-%d\") for x in df_time_interval[\"end_seconds\"]]\n",
    "df_time_interval['s_time'] = [x.time().strftime(\"%H:%M:%S\") for x in df_time_interval[\"start_seconds\"]]\n",
    "df_time_interval['e_time'] = [x.time().strftime(\"%H:%M:%S\") for x in df_time_interval[\"end_seconds\"]]\n",
    "df_time_interval.head()"
   ]
  },
  {
   "cell_type": "code",
   "execution_count": 7,
   "metadata": {},
   "outputs": [],
   "source": [
    "def power_mean(s_date,e_date,s_time,e_time):\n",
    "    subset_df = df_reading.loc[s_date:e_date].between_time(s_time, e_time)[['power_consumption']]\n",
    "    return subset_df['power_consumption'].mean()"
   ]
  },
  {
   "cell_type": "code",
   "execution_count": 8,
   "metadata": {},
   "outputs": [],
   "source": [
    "def energy_consumption(s_date,e_date,s_time,e_time):\n",
    "    subset_df = df_reading.loc[s_date:e_date].between_time(s_time, e_time)[['power_consumption']]\n",
    "    return ((subset_df['power_consumption']).sum() * 3) / (1000 * 3600)"
   ]
  },
  {
   "cell_type": "code",
   "execution_count": 9,
   "metadata": {},
   "outputs": [],
   "source": [
    "for index, row in df_time_interval.iterrows(): \n",
    "    df_time_interval.at[index,'mean_power'] = power_mean(row['s_date'],row['e_date'],\n",
    "                                            row['s_time'],row['e_time'])"
   ]
  },
  {
   "cell_type": "code",
   "execution_count": 10,
   "metadata": {},
   "outputs": [],
   "source": [
    "for index, row in df_time_interval.iterrows(): \n",
    "    df_time_interval.at[index,'pm_energy_consumption'] = energy_consumption(row['s_date'],row['e_date'],\n",
    "                                            row['s_time'],row['e_time'])"
   ]
  },
  {
   "cell_type": "code",
   "execution_count": 11,
   "metadata": {},
   "outputs": [
    {
     "data": {
      "text/html": [
       "<div>\n",
       "<style scoped>\n",
       "    .dataframe tbody tr th:only-of-type {\n",
       "        vertical-align: middle;\n",
       "    }\n",
       "\n",
       "    .dataframe tbody tr th {\n",
       "        vertical-align: top;\n",
       "    }\n",
       "\n",
       "    .dataframe thead th {\n",
       "        text-align: right;\n",
       "    }\n",
       "</style>\n",
       "<table border=\"1\" class=\"dataframe\">\n",
       "  <thead>\n",
       "    <tr style=\"text-align: right;\">\n",
       "      <th></th>\n",
       "      <th>model</th>\n",
       "      <th>start_time</th>\n",
       "      <th>end_time</th>\n",
       "      <th>start_seconds</th>\n",
       "      <th>end_seconds</th>\n",
       "      <th>total_time</th>\n",
       "      <th>s_date</th>\n",
       "      <th>e_date</th>\n",
       "      <th>s_time</th>\n",
       "      <th>e_time</th>\n",
       "      <th>mean_power</th>\n",
       "      <th>pm_energy_consumption</th>\n",
       "      <th>power</th>\n",
       "    </tr>\n",
       "  </thead>\n",
       "  <tbody>\n",
       "    <tr>\n",
       "      <th>0</th>\n",
       "      <td>MRPC</td>\n",
       "      <td>2020-06-29 23:41:36.427207</td>\n",
       "      <td>2020-06-29 23:42:31.367912</td>\n",
       "      <td>2020-06-29 22:41:36.427207</td>\n",
       "      <td>2020-06-29 22:42:31.367912</td>\n",
       "      <td>54.940705</td>\n",
       "      <td>2020-06-29</td>\n",
       "      <td>2020-06-29</td>\n",
       "      <td>22:41:36</td>\n",
       "      <td>22:42:31</td>\n",
       "      <td>135.240667</td>\n",
       "      <td>0.002029</td>\n",
       "      <td>7430.217571</td>\n",
       "    </tr>\n",
       "    <tr>\n",
       "      <th>1</th>\n",
       "      <td>STS-B</td>\n",
       "      <td>2020-06-29 23:43:50.022453</td>\n",
       "      <td>2020-06-29 23:44:45.388476</td>\n",
       "      <td>2020-06-29 22:43:50.022453</td>\n",
       "      <td>2020-06-29 22:44:45.388476</td>\n",
       "      <td>55.366023</td>\n",
       "      <td>2020-06-29</td>\n",
       "      <td>2020-06-29</td>\n",
       "      <td>22:43:50</td>\n",
       "      <td>22:44:45</td>\n",
       "      <td>134.521000</td>\n",
       "      <td>0.002130</td>\n",
       "      <td>7447.892780</td>\n",
       "    </tr>\n",
       "    <tr>\n",
       "      <th>2</th>\n",
       "      <td>CoLA</td>\n",
       "      <td>2020-06-29 23:45:01.687218</td>\n",
       "      <td>2020-06-29 23:45:48.487155</td>\n",
       "      <td>2020-06-29 22:45:01.687218</td>\n",
       "      <td>2020-06-29 22:45:48.487155</td>\n",
       "      <td>46.799937</td>\n",
       "      <td>2020-06-29</td>\n",
       "      <td>2020-06-29</td>\n",
       "      <td>22:45:01</td>\n",
       "      <td>22:45:48</td>\n",
       "      <td>131.045187</td>\n",
       "      <td>0.001747</td>\n",
       "      <td>6132.906519</td>\n",
       "    </tr>\n",
       "  </tbody>\n",
       "</table>\n",
       "</div>"
      ],
      "text/plain": [
       "   model                  start_time                    end_time  \\\n",
       "0   MRPC  2020-06-29 23:41:36.427207  2020-06-29 23:42:31.367912   \n",
       "1  STS-B  2020-06-29 23:43:50.022453  2020-06-29 23:44:45.388476   \n",
       "2   CoLA  2020-06-29 23:45:01.687218  2020-06-29 23:45:48.487155   \n",
       "\n",
       "               start_seconds                end_seconds  total_time  \\\n",
       "0 2020-06-29 22:41:36.427207 2020-06-29 22:42:31.367912   54.940705   \n",
       "1 2020-06-29 22:43:50.022453 2020-06-29 22:44:45.388476   55.366023   \n",
       "2 2020-06-29 22:45:01.687218 2020-06-29 22:45:48.487155   46.799937   \n",
       "\n",
       "       s_date      e_date    s_time    e_time  mean_power  \\\n",
       "0  2020-06-29  2020-06-29  22:41:36  22:42:31  135.240667   \n",
       "1  2020-06-29  2020-06-29  22:43:50  22:44:45  134.521000   \n",
       "2  2020-06-29  2020-06-29  22:45:01  22:45:48  131.045187   \n",
       "\n",
       "   pm_energy_consumption        power  \n",
       "0               0.002029  7430.217571  \n",
       "1               0.002130  7447.892780  \n",
       "2               0.001747  6132.906519  "
      ]
     },
     "execution_count": 11,
     "metadata": {},
     "output_type": "execute_result"
    }
   ],
   "source": [
    "df_time_interval['power'] = df_time_interval['mean_power'] * df_time_interval['total_time']\n",
    "df_time_interval.head()"
   ]
  },
  {
   "cell_type": "code",
   "execution_count": 12,
   "metadata": {},
   "outputs": [],
   "source": [
    "df_co2 = pd.read_csv(\"results/co2data.csv\")\n",
    "uk_co2 = df_co2.loc[df_co2.country == 'United Kingdom'].impact.mean()\n",
    "\n",
    "df_time_interval['CO2e'] = uk_co2 * df_time_interval['pm_energy_consumption']\n",
    "df_time_interval['kg CO2e/kWh'] = df_time_interval['CO2e'] /1000"
   ]
  },
  {
   "cell_type": "code",
   "execution_count": null,
   "metadata": {},
   "outputs": [],
   "source": []
  },
  {
   "cell_type": "code",
   "execution_count": 13,
   "metadata": {},
   "outputs": [
    {
     "data": {
      "text/html": [
       "<div>\n",
       "<style scoped>\n",
       "    .dataframe tbody tr th:only-of-type {\n",
       "        vertical-align: middle;\n",
       "    }\n",
       "\n",
       "    .dataframe tbody tr th {\n",
       "        vertical-align: top;\n",
       "    }\n",
       "\n",
       "    .dataframe thead th {\n",
       "        text-align: right;\n",
       "    }\n",
       "</style>\n",
       "<table border=\"1\" class=\"dataframe\">\n",
       "  <thead>\n",
       "    <tr style=\"text-align: right;\">\n",
       "      <th></th>\n",
       "      <th>model</th>\n",
       "      <th>pm_energy_consumption</th>\n",
       "      <th>kg CO2e/kWh</th>\n",
       "    </tr>\n",
       "  </thead>\n",
       "  <tbody>\n",
       "    <tr>\n",
       "      <th>0</th>\n",
       "      <td>MRPC</td>\n",
       "      <td>0.002029</td>\n",
       "      <td>0.001264</td>\n",
       "    </tr>\n",
       "    <tr>\n",
       "      <th>1</th>\n",
       "      <td>STS-B</td>\n",
       "      <td>0.002130</td>\n",
       "      <td>0.001327</td>\n",
       "    </tr>\n",
       "    <tr>\n",
       "      <th>2</th>\n",
       "      <td>CoLA</td>\n",
       "      <td>0.001747</td>\n",
       "      <td>0.001089</td>\n",
       "    </tr>\n",
       "  </tbody>\n",
       "</table>\n",
       "</div>"
      ],
      "text/plain": [
       "   model  pm_energy_consumption  kg CO2e/kWh\n",
       "0   MRPC               0.002029     0.001264\n",
       "1  STS-B               0.002130     0.001327\n",
       "2   CoLA               0.001747     0.001089"
      ]
     },
     "execution_count": 13,
     "metadata": {},
     "output_type": "execute_result"
    }
   ],
   "source": [
    "features = ['model','pm_energy_consumption','kg CO2e/kWh']\n",
    "df_time_interval[features]"
   ]
  },
  {
   "cell_type": "code",
   "execution_count": null,
   "metadata": {},
   "outputs": [],
   "source": []
  },
  {
   "cell_type": "code",
   "execution_count": 14,
   "metadata": {},
   "outputs": [
    {
     "data": {
      "text/html": [
       "<div>\n",
       "<style scoped>\n",
       "    .dataframe tbody tr th:only-of-type {\n",
       "        vertical-align: middle;\n",
       "    }\n",
       "\n",
       "    .dataframe tbody tr th {\n",
       "        vertical-align: top;\n",
       "    }\n",
       "\n",
       "    .dataframe thead th {\n",
       "        text-align: right;\n",
       "    }\n",
       "</style>\n",
       "<table border=\"1\" class=\"dataframe\">\n",
       "  <thead>\n",
       "    <tr style=\"text-align: right;\">\n",
       "      <th></th>\n",
       "      <th>model</th>\n",
       "      <th>start_time</th>\n",
       "      <th>end_time</th>\n",
       "      <th>start_seconds</th>\n",
       "      <th>end_seconds</th>\n",
       "      <th>total_time</th>\n",
       "      <th>s_date</th>\n",
       "      <th>e_date</th>\n",
       "      <th>s_time</th>\n",
       "      <th>e_time</th>\n",
       "      <th>mean_power</th>\n",
       "      <th>pm_energy_consumption</th>\n",
       "      <th>power</th>\n",
       "      <th>CO2e</th>\n",
       "      <th>kg CO2e/kWh</th>\n",
       "      <th>daily_consumption</th>\n",
       "      <th>monthly_consumption</th>\n",
       "      <th>yearly_consumption</th>\n",
       "    </tr>\n",
       "  </thead>\n",
       "  <tbody>\n",
       "    <tr>\n",
       "      <th>0</th>\n",
       "      <td>MRPC</td>\n",
       "      <td>2020-06-29 23:41:36.427207</td>\n",
       "      <td>2020-06-29 23:42:31.367912</td>\n",
       "      <td>2020-06-29 22:41:36.427207</td>\n",
       "      <td>2020-06-29 22:42:31.367912</td>\n",
       "      <td>54.940705</td>\n",
       "      <td>2020-06-29</td>\n",
       "      <td>2020-06-29</td>\n",
       "      <td>22:41:36</td>\n",
       "      <td>22:42:31</td>\n",
       "      <td>135.240667</td>\n",
       "      <td>0.002029</td>\n",
       "      <td>7430.217571</td>\n",
       "      <td>1.263824</td>\n",
       "      <td>0.001264</td>\n",
       "      <td>12760.804871</td>\n",
       "      <td>382824.146141</td>\n",
       "      <td>4.657694e+06</td>\n",
       "    </tr>\n",
       "    <tr>\n",
       "      <th>1</th>\n",
       "      <td>STS-B</td>\n",
       "      <td>2020-06-29 23:43:50.022453</td>\n",
       "      <td>2020-06-29 23:44:45.388476</td>\n",
       "      <td>2020-06-29 22:43:50.022453</td>\n",
       "      <td>2020-06-29 22:44:45.388476</td>\n",
       "      <td>55.366023</td>\n",
       "      <td>2020-06-29</td>\n",
       "      <td>2020-06-29</td>\n",
       "      <td>22:43:50</td>\n",
       "      <td>22:44:45</td>\n",
       "      <td>134.521000</td>\n",
       "      <td>0.002130</td>\n",
       "      <td>7447.892780</td>\n",
       "      <td>1.326938</td>\n",
       "      <td>0.001327</td>\n",
       "      <td>13295.137922</td>\n",
       "      <td>398854.137672</td>\n",
       "      <td>4.852725e+06</td>\n",
       "    </tr>\n",
       "    <tr>\n",
       "      <th>2</th>\n",
       "      <td>CoLA</td>\n",
       "      <td>2020-06-29 23:45:01.687218</td>\n",
       "      <td>2020-06-29 23:45:48.487155</td>\n",
       "      <td>2020-06-29 22:45:01.687218</td>\n",
       "      <td>2020-06-29 22:45:48.487155</td>\n",
       "      <td>46.799937</td>\n",
       "      <td>2020-06-29</td>\n",
       "      <td>2020-06-29</td>\n",
       "      <td>22:45:01</td>\n",
       "      <td>22:45:48</td>\n",
       "      <td>131.045187</td>\n",
       "      <td>0.001747</td>\n",
       "      <td>6132.906519</td>\n",
       "      <td>1.088549</td>\n",
       "      <td>0.001089</td>\n",
       "      <td>12902.928139</td>\n",
       "      <td>387087.844157</td>\n",
       "      <td>4.709569e+06</td>\n",
       "    </tr>\n",
       "  </tbody>\n",
       "</table>\n",
       "</div>"
      ],
      "text/plain": [
       "   model                  start_time                    end_time  \\\n",
       "0   MRPC  2020-06-29 23:41:36.427207  2020-06-29 23:42:31.367912   \n",
       "1  STS-B  2020-06-29 23:43:50.022453  2020-06-29 23:44:45.388476   \n",
       "2   CoLA  2020-06-29 23:45:01.687218  2020-06-29 23:45:48.487155   \n",
       "\n",
       "               start_seconds                end_seconds  total_time  \\\n",
       "0 2020-06-29 22:41:36.427207 2020-06-29 22:42:31.367912   54.940705   \n",
       "1 2020-06-29 22:43:50.022453 2020-06-29 22:44:45.388476   55.366023   \n",
       "2 2020-06-29 22:45:01.687218 2020-06-29 22:45:48.487155   46.799937   \n",
       "\n",
       "       s_date      e_date    s_time    e_time  mean_power  \\\n",
       "0  2020-06-29  2020-06-29  22:41:36  22:42:31  135.240667   \n",
       "1  2020-06-29  2020-06-29  22:43:50  22:44:45  134.521000   \n",
       "2  2020-06-29  2020-06-29  22:45:01  22:45:48  131.045187   \n",
       "\n",
       "   pm_energy_consumption        power      CO2e  kg CO2e/kWh  \\\n",
       "0               0.002029  7430.217571  1.263824     0.001264   \n",
       "1               0.002130  7447.892780  1.326938     0.001327   \n",
       "2               0.001747  6132.906519  1.088549     0.001089   \n",
       "\n",
       "   daily_consumption  monthly_consumption  yearly_consumption  \n",
       "0       12760.804871        382824.146141        4.657694e+06  \n",
       "1       13295.137922        398854.137672        4.852725e+06  \n",
       "2       12902.928139        387087.844157        4.709569e+06  "
      ]
     },
     "execution_count": 14,
     "metadata": {},
     "output_type": "execute_result"
    }
   ],
   "source": [
    "df_time_interval['daily_consumption'] = 60 * 60 * 24 * 4000 * df_time_interval['pm_energy_consumption'] / df_time_interval['total_time']\n",
    "df_time_interval['monthly_consumption'] = df_time_interval['daily_consumption'] * 30\n",
    "df_time_interval['yearly_consumption'] = df_time_interval['daily_consumption'] * 365\n",
    "df_time_interval"
   ]
  },
  {
   "cell_type": "code",
   "execution_count": 93,
   "metadata": {},
   "outputs": [
    {
     "data": {
      "text/plain": [
       "6493145.155387019"
      ]
     },
     "execution_count": 93,
     "metadata": {},
     "output_type": "execute_result"
    }
   ],
   "source": [
    "df_time_interval['daily'].mean() *  5000000 * 0.01/100"
   ]
  },
  {
   "cell_type": "code",
   "execution_count": 91,
   "metadata": {},
   "outputs": [
    {
     "data": {
      "text/plain": [
       "194794354.66161057"
      ]
     },
     "execution_count": 91,
     "metadata": {},
     "output_type": "execute_result"
    }
   ],
   "source": [
    "df_time_interval['monthly'].mean() * 5000000 * 0.01/100"
   ]
  },
  {
   "cell_type": "code",
   "execution_count": 90,
   "metadata": {},
   "outputs": [
    {
     "data": {
      "text/plain": [
       "2369997981.716262"
      ]
     },
     "execution_count": 90,
     "metadata": {},
     "output_type": "execute_result"
    }
   ],
   "source": [
    "df_time_interval['yearly'].mean() * 5000000 * 0.01/100"
   ]
  },
  {
   "cell_type": "code",
   "execution_count": null,
   "metadata": {},
   "outputs": [],
   "source": []
  },
  {
   "cell_type": "code",
   "execution_count": 17,
   "metadata": {},
   "outputs": [],
   "source": [
    "df_time_interval['daily_CO2e'] = uk_co2 * df_time_interval['daily_consumption']\n",
    "df_time_interval['daily kg CO2e/kWh'] = df_time_interval['daily_CO2e'] /1000\n",
    "df_time_interval['monthly_CO2e'] = uk_co2 * df_time_interval['monthly_consumption']\n",
    "df_time_interval['monthly kg CO2e/kWh'] = df_time_interval['monthly_CO2e'] /1000\n",
    "df_time_interval['yearly_CO2e'] = uk_co2 * df_time_interval['yearly_consumption']\n",
    "df_time_interval['yearly kg CO2e/kWh'] = df_time_interval['yearly_CO2e'] /1000"
   ]
  },
  {
   "cell_type": "code",
   "execution_count": 49,
   "metadata": {},
   "outputs": [],
   "source": [
    "# mean values \n",
    "# mean_df = pd.DataFrame()\n",
    "# mean_df['process'] = [\"Inference\"]\n",
    "# mean_df['daily_consumption'] = [df_time_interval['daily_consumption'].mean() *  5000000 * 0.01/100]\n",
    "# mean_df['monthly_consumption'] = [df_time_interval['monthly_consumption'].mean() *  5000000 * 0.01/100]\n",
    "# mean_df['yearly_consumption'] = [df_time_interval['yearly_consumption'].mean() *  5000000 * 0.01/100]\n",
    "# mean_df['daily_co2'] = [df_time_interval['daily kg CO2e/kWh'].mean() *  5000000 * 0.01/100]\n",
    "# mean_df['monthly_co2'] = [df_time_interval['monthly kg CO2e/kWh'].mean() *  5000000 * 0.01/100]\n",
    "# mean_df['yearly_co2'] = [df_time_interval['yearly kg CO2e/kWh'].mean() *  5000000 * 0.01/100]"
   ]
  },
  {
   "cell_type": "code",
   "execution_count": 50,
   "metadata": {},
   "outputs": [
    {
     "data": {
      "text/html": [
       "<div>\n",
       "<style scoped>\n",
       "    .dataframe tbody tr th:only-of-type {\n",
       "        vertical-align: middle;\n",
       "    }\n",
       "\n",
       "    .dataframe tbody tr th {\n",
       "        vertical-align: top;\n",
       "    }\n",
       "\n",
       "    .dataframe thead th {\n",
       "        text-align: right;\n",
       "    }\n",
       "</style>\n",
       "<table border=\"1\" class=\"dataframe\">\n",
       "  <thead>\n",
       "    <tr style=\"text-align: right;\">\n",
       "      <th></th>\n",
       "      <th>process</th>\n",
       "      <th>daily_consumption</th>\n",
       "      <th>monthly_consumption</th>\n",
       "      <th>yearly_consumption</th>\n",
       "      <th>daily_co2</th>\n",
       "      <th>monthly_co2</th>\n",
       "      <th>yearly_co2</th>\n",
       "    </tr>\n",
       "  </thead>\n",
       "  <tbody>\n",
       "    <tr>\n",
       "      <th>0</th>\n",
       "      <td>Inference</td>\n",
       "      <td>6.493145e+06</td>\n",
       "      <td>1.947944e+08</td>\n",
       "      <td>2.369998e+09</td>\n",
       "      <td>4.045229e+06</td>\n",
       "      <td>1.213569e+08</td>\n",
       "      <td>1.476509e+09</td>\n",
       "    </tr>\n",
       "  </tbody>\n",
       "</table>\n",
       "</div>"
      ],
      "text/plain": [
       "     process  daily_consumption  monthly_consumption  yearly_consumption  \\\n",
       "0  Inference       6.493145e+06         1.947944e+08        2.369998e+09   \n",
       "\n",
       "      daily_co2   monthly_co2    yearly_co2  \n",
       "0  4.045229e+06  1.213569e+08  1.476509e+09  "
      ]
     },
     "execution_count": 50,
     "metadata": {},
     "output_type": "execute_result"
    }
   ],
   "source": [
    "# mean_df"
   ]
  },
  {
   "cell_type": "code",
   "execution_count": 51,
   "metadata": {},
   "outputs": [],
   "source": [
    "# finetune_data = pd.read_csv(\"logs/approx_consumption.csv\")"
   ]
  },
  {
   "cell_type": "code",
   "execution_count": 52,
   "metadata": {},
   "outputs": [],
   "source": [
    "# mean_df = mean_df.append(finetune_data, ignore_index=True)"
   ]
  },
  {
   "cell_type": "code",
   "execution_count": 53,
   "metadata": {},
   "outputs": [],
   "source": [
    "pretrain_consumption = 1507\n",
    "pretrain_daily = (1507 / 79) * 24\n",
    "pretrain_monthly_co2 = uk_co2 * pretrain_consumption / 1000\n",
    "pretrain_daily_co2 = uk_co2 * pretrain_daily / 1000\n",
    "pretrain_array = [\"Pretraining\",pretrain_daily, pretrain_consumption, pretrain_consumption,pretrain_daily_co2,\n",
    "                  pretrain_monthly_co2,pretrain_daily_co2]\n"
   ]
  },
  {
   "cell_type": "code",
   "execution_count": 54,
   "metadata": {},
   "outputs": [],
   "source": [
    "# mean_df.loc[3] = pretrain_array"
   ]
  },
  {
   "cell_type": "code",
   "execution_count": null,
   "metadata": {},
   "outputs": [],
   "source": []
  },
  {
   "cell_type": "code",
   "execution_count": 76,
   "metadata": {},
   "outputs": [],
   "source": [
    "## better way \n",
    "inference_array = [\"Inference\",\n",
    "                   df_time_interval['daily_consumption'].mean() *  5000000 * 0.01/100,\n",
    "                  df_time_interval['monthly_consumption'].mean() *  5000000 * 0.01/100,\n",
    "                  df_time_interval['yearly_consumption'].mean() *  5000000 * 0.01/100,\n",
    "                  df_time_interval['daily kg CO2e/kWh'].mean() *  5000000 * 0.01/100,\n",
    "                   df_time_interval['monthly kg CO2e/kWh'].mean() *  5000000 * 0.01/100,\n",
    "                    df_time_interval['yearly kg CO2e/kWh'].mean() *  5000000 * 0.01/100]"
   ]
  },
  {
   "cell_type": "code",
   "execution_count": 77,
   "metadata": {},
   "outputs": [],
   "source": [
    "import json\n",
    "with open('logs/finetune_consumption_data.txt', 'r') as filehandle:\n",
    "    finetune_array = json.load(filehandle)"
   ]
  },
  {
   "cell_type": "code",
   "execution_count": 78,
   "metadata": {},
   "outputs": [],
   "source": [
    "data = []\n",
    "\n",
    "data.append(pretrain_array)\n",
    "data.append(finetune_array)\n",
    "data.append(inference_array)"
   ]
  },
  {
   "cell_type": "code",
   "execution_count": 79,
   "metadata": {},
   "outputs": [],
   "source": [
    "mean_df = pd.DataFrame(data, columns=[\"process\",\"daily_consumption\",\n",
    "                                 \"monthly_consumption\",\"yearly_consumption\",\"daily_co2\",\n",
    "                                 \"monthly_co2\",\"yearly_co2\"])"
   ]
  },
  {
   "cell_type": "code",
   "execution_count": 80,
   "metadata": {},
   "outputs": [
    {
     "data": {
      "text/html": [
       "<div>\n",
       "<style scoped>\n",
       "    .dataframe tbody tr th:only-of-type {\n",
       "        vertical-align: middle;\n",
       "    }\n",
       "\n",
       "    .dataframe tbody tr th {\n",
       "        vertical-align: top;\n",
       "    }\n",
       "\n",
       "    .dataframe thead th {\n",
       "        text-align: right;\n",
       "    }\n",
       "</style>\n",
       "<table border=\"1\" class=\"dataframe\">\n",
       "  <thead>\n",
       "    <tr style=\"text-align: right;\">\n",
       "      <th></th>\n",
       "      <th>process</th>\n",
       "      <th>daily_consumption</th>\n",
       "      <th>monthly_consumption</th>\n",
       "      <th>yearly_consumption</th>\n",
       "      <th>daily_co2</th>\n",
       "      <th>monthly_co2</th>\n",
       "      <th>yearly_co2</th>\n",
       "    </tr>\n",
       "  </thead>\n",
       "  <tbody>\n",
       "    <tr>\n",
       "      <th>0</th>\n",
       "      <td>Pretraining</td>\n",
       "      <td>4.578228e+02</td>\n",
       "      <td>1.507000e+03</td>\n",
       "      <td>1.507000e+03</td>\n",
       "      <td>2.852236e+02</td>\n",
       "      <td>9.388610e+02</td>\n",
       "      <td>2.852236e+02</td>\n",
       "    </tr>\n",
       "    <tr>\n",
       "      <th>1</th>\n",
       "      <td>Finetuning</td>\n",
       "      <td>2.180561e+04</td>\n",
       "      <td>6.541682e+05</td>\n",
       "      <td>7.850019e+06</td>\n",
       "      <td>1.358489e+04</td>\n",
       "      <td>4.075468e+05</td>\n",
       "      <td>4.890562e+06</td>\n",
       "    </tr>\n",
       "    <tr>\n",
       "      <th>2</th>\n",
       "      <td>Inference</td>\n",
       "      <td>6.493145e+06</td>\n",
       "      <td>1.947944e+08</td>\n",
       "      <td>2.369998e+09</td>\n",
       "      <td>4.045229e+06</td>\n",
       "      <td>1.213569e+08</td>\n",
       "      <td>1.476509e+09</td>\n",
       "    </tr>\n",
       "  </tbody>\n",
       "</table>\n",
       "</div>"
      ],
      "text/plain": [
       "       process  daily_consumption  monthly_consumption  yearly_consumption  \\\n",
       "0  Pretraining       4.578228e+02         1.507000e+03        1.507000e+03   \n",
       "1   Finetuning       2.180561e+04         6.541682e+05        7.850019e+06   \n",
       "2    Inference       6.493145e+06         1.947944e+08        2.369998e+09   \n",
       "\n",
       "      daily_co2   monthly_co2    yearly_co2  \n",
       "0  2.852236e+02  9.388610e+02  2.852236e+02  \n",
       "1  1.358489e+04  4.075468e+05  4.890562e+06  \n",
       "2  4.045229e+06  1.213569e+08  1.476509e+09  "
      ]
     },
     "execution_count": 80,
     "metadata": {},
     "output_type": "execute_result"
    }
   ],
   "source": [
    "mean_df"
   ]
  },
  {
   "cell_type": "code",
   "execution_count": 96,
   "metadata": {},
   "outputs": [],
   "source": [
    "transform_data = [\n",
    "[\"Pretraining\",\"Day\",pretrain_array[1],pretrain_array[4]],\n",
    "[\"Pretraining\",\"Month\",pretrain_array[2],pretrain_array[5]],\n",
    "[\"Pretraining\",\"Year\",pretrain_array[3],pretrain_array[6]],\n",
    "[\"Finetuning\",\"Day\",finetune_array[1],finetune_array[4]],\n",
    "[\"Finetuning\",\"Month\",finetune_array[2],finetune_array[5]],\n",
    "[\"Finetuning\",\"Year\",finetune_array[3],finetune_array[6]],\n",
    "[\"Inference\",\"Day\",inference_array[1],inference_array[4]],\n",
    "[\"Inference\",\"Month\",inference_array[2],inference_array[5]],\n",
    "[\"Inference\",\"Year\",inference_array[3],inference_array[6]]]"
   ]
  },
  {
   "cell_type": "code",
   "execution_count": 97,
   "metadata": {},
   "outputs": [],
   "source": [
    "plot_df = pd.DataFrame(transform_data,columns=[\"process\", \"consumption_interval\", \"consumption\",\"co2\"])"
   ]
  },
  {
   "cell_type": "code",
   "execution_count": 98,
   "metadata": {},
   "outputs": [
    {
     "data": {
      "text/html": [
       "<div>\n",
       "<style scoped>\n",
       "    .dataframe tbody tr th:only-of-type {\n",
       "        vertical-align: middle;\n",
       "    }\n",
       "\n",
       "    .dataframe tbody tr th {\n",
       "        vertical-align: top;\n",
       "    }\n",
       "\n",
       "    .dataframe thead th {\n",
       "        text-align: right;\n",
       "    }\n",
       "</style>\n",
       "<table border=\"1\" class=\"dataframe\">\n",
       "  <thead>\n",
       "    <tr style=\"text-align: right;\">\n",
       "      <th></th>\n",
       "      <th>process</th>\n",
       "      <th>consumption_interval</th>\n",
       "      <th>consumption</th>\n",
       "      <th>co2</th>\n",
       "    </tr>\n",
       "  </thead>\n",
       "  <tbody>\n",
       "    <tr>\n",
       "      <th>0</th>\n",
       "      <td>Pretraining</td>\n",
       "      <td>Day</td>\n",
       "      <td>4.578228e+02</td>\n",
       "      <td>2.852236e+02</td>\n",
       "    </tr>\n",
       "    <tr>\n",
       "      <th>1</th>\n",
       "      <td>Pretraining</td>\n",
       "      <td>Month</td>\n",
       "      <td>1.507000e+03</td>\n",
       "      <td>9.388610e+02</td>\n",
       "    </tr>\n",
       "    <tr>\n",
       "      <th>2</th>\n",
       "      <td>Pretraining</td>\n",
       "      <td>Year</td>\n",
       "      <td>1.507000e+03</td>\n",
       "      <td>2.852236e+02</td>\n",
       "    </tr>\n",
       "    <tr>\n",
       "      <th>3</th>\n",
       "      <td>Finetuning</td>\n",
       "      <td>Day</td>\n",
       "      <td>2.180561e+04</td>\n",
       "      <td>1.358489e+04</td>\n",
       "    </tr>\n",
       "    <tr>\n",
       "      <th>4</th>\n",
       "      <td>Finetuning</td>\n",
       "      <td>Month</td>\n",
       "      <td>6.541682e+05</td>\n",
       "      <td>4.075468e+05</td>\n",
       "    </tr>\n",
       "    <tr>\n",
       "      <th>5</th>\n",
       "      <td>Finetuning</td>\n",
       "      <td>Year</td>\n",
       "      <td>7.850019e+06</td>\n",
       "      <td>4.890562e+06</td>\n",
       "    </tr>\n",
       "    <tr>\n",
       "      <th>6</th>\n",
       "      <td>Inference</td>\n",
       "      <td>Day</td>\n",
       "      <td>6.493145e+06</td>\n",
       "      <td>4.045229e+06</td>\n",
       "    </tr>\n",
       "    <tr>\n",
       "      <th>7</th>\n",
       "      <td>Inference</td>\n",
       "      <td>Month</td>\n",
       "      <td>1.947944e+08</td>\n",
       "      <td>1.213569e+08</td>\n",
       "    </tr>\n",
       "    <tr>\n",
       "      <th>8</th>\n",
       "      <td>Inference</td>\n",
       "      <td>Year</td>\n",
       "      <td>2.369998e+09</td>\n",
       "      <td>1.476509e+09</td>\n",
       "    </tr>\n",
       "  </tbody>\n",
       "</table>\n",
       "</div>"
      ],
      "text/plain": [
       "       process consumption_interval   consumption           co2\n",
       "0  Pretraining                  Day  4.578228e+02  2.852236e+02\n",
       "1  Pretraining                Month  1.507000e+03  9.388610e+02\n",
       "2  Pretraining                 Year  1.507000e+03  2.852236e+02\n",
       "3   Finetuning                  Day  2.180561e+04  1.358489e+04\n",
       "4   Finetuning                Month  6.541682e+05  4.075468e+05\n",
       "5   Finetuning                 Year  7.850019e+06  4.890562e+06\n",
       "6    Inference                  Day  6.493145e+06  4.045229e+06\n",
       "7    Inference                Month  1.947944e+08  1.213569e+08\n",
       "8    Inference                 Year  2.369998e+09  1.476509e+09"
      ]
     },
     "execution_count": 98,
     "metadata": {},
     "output_type": "execute_result"
    }
   ],
   "source": [
    "plot_df"
   ]
  },
  {
   "cell_type": "code",
   "execution_count": null,
   "metadata": {},
   "outputs": [],
   "source": []
  },
  {
   "cell_type": "code",
   "execution_count": 125,
   "metadata": {},
   "outputs": [
    {
     "data": {
      "image/png": "[encoded data removed]",
      "text/plain": [
       "<Figure size 469.575x360 with 1 Axes>"
      ]
     },
     "metadata": {
      "image/png": {
       "height": 346,
       "width": 448
      },
      "needs_background": "light"
     },
     "output_type": "display_data"
    }
   ],
   "source": [
    "#plot trial\n",
    "plot_df[\"Consumption (log scale)\"] = np.log(plot_df['consumption'])\n",
    "g = sns.catplot(x=\"consumption_interval\", y=\"Consumption (log scale)\", hue=\"process\", data=plot_df,\n",
    "                 kind=\"bar\", palette='PuBuGn')\n",
    "\n",
    "plt.savefig('viz/overallConsumption.png',dpi=300)"
   ]
  },
  {
   "cell_type": "code",
   "execution_count": 136,
   "metadata": {},
   "outputs": [
    {
     "data": {
      "image/png": "[encoded data removed]",
      "text/plain": [
       "<Figure size 469.575x360 with 1 Axes>"
      ]
     },
     "metadata": {
      "image/png": {
       "height": 346,
       "width": 444
      },
      "needs_background": "light"
     },
     "output_type": "display_data"
    }
   ],
   "source": [
    "plot_df[\"CO2e (log scale)\"] = np.log(plot_df['co2'])\n",
    "g = sns.catplot(x=\"consumption_interval\", y=\"CO2e (log scale)\", hue=\"process\", data=plot_df,\n",
    "                 kind=\"bar\", palette='PuBuGn')\n",
    "g.set(ylabel=\"Carbon emissions (log scale)\", xlabel=\"Consumtpion Interval\")\n",
    "plt.savefig('viz/overallCO2.png',dpi=300)"
   ]
  },
  {
   "cell_type": "code",
   "execution_count": 134,
   "metadata": {},
   "outputs": [
    {
     "data": {
      "text/plain": [
       "<seaborn.axisgrid.FacetGrid at 0x7fe347fc7b10>"
      ]
     },
     "execution_count": 134,
     "metadata": {},
     "output_type": "execute_result"
    },
    {
     "data": {
      "image/png": "[encoded data removed]",
      "text/plain": [
       "<Figure size 469.575x360 with 1 Axes>"
      ]
     },
     "metadata": {
      "image/png": {
       "height": 345,
       "width": 447
      },
      "needs_background": "light"
     },
     "output_type": "display_data"
    }
   ],
   "source": [
    "plot_df[\"CO2e (log scale)\"] = np.log(plot_df['co2'])\n",
    "g = sns.catplot(x=\"consumption_interval\", y=\"co2\", hue=\"process\", data=plot_df,\n",
    "                 kind=\"bar\", palette='PuBuGn')\n",
    "g.set(ylabel=\"Carbon emissions (kg CO2e/ kWh)\", xlabel=\"Consumtpion Interval\")"
   ]
  },
  {
   "cell_type": "code",
   "execution_count": 111,
   "metadata": {},
   "outputs": [
    {
     "data": {
      "image/png": "[encoded data removed]",
      "text/plain": [
       "<Figure size 469.575x360 with 1 Axes>"
      ]
     },
     "metadata": {
      "image/png": {
       "height": 346,
       "width": 447
      },
      "needs_background": "light"
     },
     "output_type": "display_data"
    }
   ],
   "source": [
    "g = sns.catplot(x=\"consumption_interval\", y=\"consumption\", hue=\"process\", data=plot_df,\n",
    "                 kind=\"bar\", palette='PuBuGn')"
   ]
  },
  {
   "cell_type": "code",
   "execution_count": 114,
   "metadata": {},
   "outputs": [
    {
     "data": {
      "image/png": "[encoded data removed]",
      "text/plain": [
       "<Figure size 360x360 with 1 Axes>"
      ]
     },
     "metadata": {
      "image/png": {
       "height": 346,
       "width": 347
      },
      "needs_background": "light"
     },
     "output_type": "display_data"
    }
   ],
   "source": [
    "g = sns.catplot(x=\"process\", y=\"daily_consumption\", hue=\"process\", data=mean_df,\n",
    "                 kind=\"bar\")"
   ]
  },
  {
   "cell_type": "code",
   "execution_count": 109,
   "metadata": {},
   "outputs": [
    {
     "data": {
      "image/png": "[encoded data removed]",
      "text/plain": [
       "<Figure size 360x360 with 1 Axes>"
      ]
     },
     "metadata": {
      "image/png": {
       "height": 346,
       "width": 347
      },
      "needs_background": "light"
     },
     "output_type": "display_data"
    }
   ],
   "source": [
    "mean_df['daily (log)'] = np.log(mean_df['daily_consumption'])\n",
    "\n",
    "g = sns.catplot(x=\"process\", y=\"daily (log)\", hue=\"process\", data=mean_df,\n",
    "                 kind=\"bar\")"
   ]
  },
  {
   "cell_type": "code",
   "execution_count": 110,
   "metadata": {},
   "outputs": [
    {
     "data": {
      "image/png": "[encoded data removed]",
      "text/plain": [
       "<Figure size 360x360 with 1 Axes>"
      ]
     },
     "metadata": {
      "image/png": {
       "height": 346,
       "width": 347
      },
      "needs_background": "light"
     },
     "output_type": "display_data"
    }
   ],
   "source": [
    "mean_df['yearly (log)'] = np.log(mean_df['yearly_consumption'])\n",
    "\n",
    "g = sns.catplot(x=\"process\", y=\"yearly (log)\", hue=\"process\", data=mean_df,\n",
    "                 kind=\"bar\", palette=\"muted\")"
   ]
  },
  {
   "cell_type": "code",
   "execution_count": null,
   "metadata": {},
   "outputs": [],
   "source": []
  }
 ],
 "metadata": {
  "kernelspec": {
   "display_name": "Python 3",
   "language": "python",
   "name": "python3"
  },
  "language_info": {
   "codemirror_mode": {
    "name": "ipython",
    "version": 3
   },
   "file_extension": ".py",
   "mimetype": "text/x-python",
   "name": "python",
   "nbconvert_exporter": "python",
   "pygments_lexer": "ipython3",
   "version": "3.7.7"
  }
 },
 "nbformat": 4,
 "nbformat_minor": 4
}
