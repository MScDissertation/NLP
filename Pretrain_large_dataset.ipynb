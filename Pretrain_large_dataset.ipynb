{
 "cells": [
  {
   "cell_type": "code",
   "execution_count": null,
   "metadata": {},
   "outputs": [],
   "source": []
  },
  {
   "cell_type": "code",
   "execution_count": 1,
   "metadata": {},
   "outputs": [],
   "source": [
    "import pandas as pd\n",
    "import numpy as np\n",
    "from datetime import datetime\n",
    "from datetime import timedelta\n",
    "import matplotlib as mpl\n",
    "import matplotlib.pyplot as plt\n",
    "import seaborn as sns\n",
    "\n",
    "%matplotlib inline\n",
    "%config InlineBackend.figure_format='retina'\n",
    "\n",
    "mpl.rcParams['savefig.dpi'] = 300\n",
    "mpl.rcParams['font.size'] = 12\n",
    "\n",
    "plt.style.use('tableau-colorblind10')"
   ]
  },
  {
   "cell_type": "code",
   "execution_count": null,
   "metadata": {},
   "outputs": [],
   "source": [
    "# get file with nvidia-smi readings\n",
    "url = \"nvidia/nvidia_power_pretrain_16GB.csv\"\n",
    "df_orig = pd.read_csv(url)"
   ]
  },
  {
   "cell_type": "code",
   "execution_count": null,
   "metadata": {},
   "outputs": [],
   "source": [
    "# isolate the training time\n",
    "df_orig.timestamp = [datetime.strptime(time, \"%Y/%m/%d %H:%M:%S.%f\") for time in df_orig.timestamp]\n",
    "df = df_orig.loc[df_orig[\" utilization.gpu [%]\"] > 0] #isolating training "
   ]
  },
  {
   "cell_type": "code",
   "execution_count": null,
   "metadata": {},
   "outputs": [],
   "source": [
    "# extract time for GPU, i.e., while GPU is used\n",
    "time_interval = df.iloc[-1].timestamp - df.iloc[0].timestamp\n",
    "total_time = time_interval.total_seconds()\n",
    "print(\"Seconds: {}\".format(total_time))\n",
    "print (\"Training hours: {}\".format(total_time/3600))"
   ]
  },
  {
   "cell_type": "code",
   "execution_count": null,
   "metadata": {},
   "outputs": [],
   "source": [
    "# Total time the program is run\n",
    "time_interval_cpu = df_orig.iloc[-1].timestamp - df_orig.iloc[0].timestamp\n",
    "total_time_cpu = time_interval_cpu.total_seconds()\n",
    "print(\"Seconds: {}\".format(total_time))\n",
    "print (\"Hours: {}\".format(total_time/3600))"
   ]
  },
  {
   "cell_type": "code",
   "execution_count": 2,
   "metadata": {},
   "outputs": [
    {
     "ename": "NameError",
     "evalue": "name 'df' is not defined",
     "output_type": "error",
     "traceback": [
      "\u001b[0;31m---------------------------------------------------------------------------\u001b[0m",
      "\u001b[0;31mNameError\u001b[0m                                 Traceback (most recent call last)",
      "\u001b[0;32m<ipython-input-2-89727fe93d1d>\u001b[0m in \u001b[0;36m<module>\u001b[0;34m\u001b[0m\n\u001b[1;32m      1\u001b[0m \u001b[0;31m# GPU energy consumption\u001b[0m\u001b[0;34m\u001b[0m\u001b[0;34m\u001b[0m\u001b[0;34m\u001b[0m\u001b[0m\n\u001b[0;32m----> 2\u001b[0;31m \u001b[0mmean_power_draw\u001b[0m \u001b[0;34m=\u001b[0m\u001b[0mdf\u001b[0m\u001b[0;34m[\u001b[0m\u001b[0;34m' power.draw [W]'\u001b[0m\u001b[0;34m]\u001b[0m\u001b[0;34m.\u001b[0m\u001b[0mmean\u001b[0m\u001b[0;34m(\u001b[0m\u001b[0;34m)\u001b[0m\u001b[0;34m\u001b[0m\u001b[0;34m\u001b[0m\u001b[0m\n\u001b[0m\u001b[1;32m      3\u001b[0m \u001b[0mtotal_power_draw\u001b[0m \u001b[0;34m=\u001b[0m \u001b[0mmean_power_draw\u001b[0m \u001b[0;34m*\u001b[0m \u001b[0mtotal_time\u001b[0m\u001b[0;34m\u001b[0m\u001b[0;34m\u001b[0m\u001b[0m\n\u001b[1;32m      4\u001b[0m \u001b[0msum_power_draw\u001b[0m \u001b[0;34m=\u001b[0m \u001b[0mdf_orig\u001b[0m\u001b[0;34m[\u001b[0m\u001b[0;34m' power.draw [W]'\u001b[0m\u001b[0;34m]\u001b[0m\u001b[0;34m.\u001b[0m\u001b[0msum\u001b[0m\u001b[0;34m(\u001b[0m\u001b[0;34m)\u001b[0m \u001b[0;31m# total power during the time code is running\u001b[0m\u001b[0;34m\u001b[0m\u001b[0;34m\u001b[0m\u001b[0m\n\u001b[1;32m      5\u001b[0m \u001b[0mgpu_util\u001b[0m \u001b[0;34m=\u001b[0m \u001b[0mdf\u001b[0m\u001b[0;34m[\u001b[0m\u001b[0;34m' utilization.gpu [%]'\u001b[0m\u001b[0;34m]\u001b[0m\u001b[0;34m.\u001b[0m\u001b[0mmean\u001b[0m\u001b[0;34m(\u001b[0m\u001b[0;34m)\u001b[0m\u001b[0;34m\u001b[0m\u001b[0;34m\u001b[0m\u001b[0m\n",
      "\u001b[0;31mNameError\u001b[0m: name 'df' is not defined"
     ]
    }
   ],
   "source": [
    "# GPU energy consumption\n",
    "mean_power_draw =df[' power.draw [W]'].mean() \n",
    "gpu_energy = mean_power_draw * total_time \n",
    "sum_power_draw = df_orig[' power.draw [W]'].sum() # total power during the time code is running\n",
    "gpu_util = df[' utilization.gpu [%]'].mean()\n",
    "memory_util = df[' utilization.memory [%]'].mean()\n",
    "memory_used = df[' memory.used [MiB]'].mean()\n",
    "print('{} total from mean \\n{} summed power'.format(gpu_energy,sum_power_draw))\n",
    "print('in kWh ', sum_power_draw / (1000 * 3600))\n",
    "print(\"GPU utilisation: \", gpu_util)"
   ]
  },
  {
   "cell_type": "code",
   "execution_count": null,
   "metadata": {},
   "outputs": [],
   "source": [
    "df.plot(x= \"timestamp\",y = \" power.draw [W]\")"
   ]
  },
  {
   "cell_type": "code",
   "execution_count": null,
   "metadata": {},
   "outputs": [],
   "source": [
    "print(\"GPU energy consumption: {} W\".format(gpu_energy))\n",
    "gpu_energy_kWh = gpu_energy / (1000 * 60 *60)\n",
    "print(\"GPU energy consumption: {} kWh\".format(gpu_energy_kWh))"
   ]
  },
  {
   "cell_type": "code",
   "execution_count": null,
   "metadata": {},
   "outputs": [],
   "source": [
    "cpu_energy = 85 * total_time_cpu\n",
    "total_energy = gpu_energy + cpu_energy\n",
    "print (total_energy)\n",
    "total_energy_kwh = total_energy / (1000 * 3600)\n",
    "total_energy_kwh"
   ]
  },
  {
   "cell_type": "markdown",
   "metadata": {},
   "source": [
    "## Power monitor readings"
   ]
  },
  {
   "cell_type": "code",
   "execution_count": null,
   "metadata": {},
   "outputs": [],
   "source": [
    "print (df.iloc[-1].timestamp, df.iloc[0].timestamp)\n",
    "print (df_orig.iloc[-1].timestamp, df_orig.iloc[0].timestamp)"
   ]
  },
  {
   "cell_type": "code",
   "execution_count": null,
   "metadata": {},
   "outputs": [],
   "source": [
    "power_monitor_df = pd.read_csv(\"results/pretrain_power_monitor.csv\")"
   ]
  },
  {
   "cell_type": "code",
   "execution_count": null,
   "metadata": {},
   "outputs": [],
   "source": [
    "power_monitor_df['last_changed'] = pd.to_datetime(power_monitor_df['last_changed'], errors='coerce')\n",
    "power_monitor_df.dropna(subset=['last_changed'], inplace=True)\n",
    "power_monitor_df.set_index('last_changed', inplace=True)"
   ]
  },
  {
   "cell_type": "code",
   "execution_count": null,
   "metadata": {},
   "outputs": [],
   "source": [
    "start_date = '2020-06-16'\n",
    "end_date = '2020-06-16'\n",
    "start_time = '21:38:59' #one hour behind\n",
    "end_time = '23:18:51'\n",
    "subset_df = power_monitor_df.loc[start_date:end_date].between_time(start_time, end_time)[['power_consumption']]\n",
    "((subset_df['power_consumption']).sum() * 3) / (1000 * 3600) #sampled every 3 sec"
   ]
  },
  {
   "cell_type": "code",
   "execution_count": null,
   "metadata": {},
   "outputs": [],
   "source": [
    "y_max = subset_df['power_consumption'].max() * 1.2\n",
    "ax =subset_df[(power_monitor_df != 0).all(1)].plot(ylim=(0,y_max))\n",
    "ax.set_title(\"Power monitor readings for BERT pretraining\")\n",
    "ax.set_ylabel('Power (W)')\n",
    "ax.set_xlabel('Time')\n",
    "plt.tight_layout()\n",
    "ax.figure.savefig(\"viz/pm_BERT_pretrain_large.png\")"
   ]
  },
  {
   "cell_type": "code",
   "execution_count": null,
   "metadata": {},
   "outputs": [],
   "source": [
    "mean_power_monitor = subset_df[\"power_consumption\"].mean()\n",
    "mean_power_monitor"
   ]
  }
 ],
 "metadata": {
  "kernelspec": {
   "display_name": "Python 3.7.7 64-bit ('venv': conda)",
   "language": "python",
   "name": "python37764bitvenvcondafa5af565d1d24d54aaf79da4c6c82fdf"
  },
  "language_info": {
   "codemirror_mode": {
    "name": "ipython",
    "version": 3
   },
   "file_extension": ".py",
   "mimetype": "text/x-python",
   "name": "python",
   "nbconvert_exporter": "python",
   "pygments_lexer": "ipython3",
   "version": "3.7.7"
  }
 },
 "nbformat": 4,
 "nbformat_minor": 4
}
