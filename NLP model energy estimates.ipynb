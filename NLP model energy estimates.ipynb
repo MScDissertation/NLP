{
 "cells": [
  {
   "cell_type": "markdown",
   "metadata": {},
   "source": [
    "# Estimating energy use by MEENA \n",
    "\n",
    "Time = 30 days   \n",
    "Hardware = TPUv3  \n",
    "Number of TPUs = 2048  \n",
    "PUE of GCP = 1.11"
   ]
  },
  {
   "cell_type": "code",
   "execution_count": 13,
   "metadata": {},
   "outputs": [],
   "source": [
    "time = 30 * 24 #hours\n",
    "TDP_TPU = 200/1000 # kW\n",
    "n_TPU = 2048\n",
    "utilisation = 0.9\n",
    "PUE = 1.11\n",
    "uk_co2e = 253/1000 # kg/kWh"
   ]
  },
  {
   "cell_type": "code",
   "execution_count": 14,
   "metadata": {},
   "outputs": [
    {
     "name": "stdout",
     "output_type": "stream",
     "text": [
      "Energy  294617.088\n",
      "CO2e  74538.123264\n"
     ]
    }
   ],
   "source": [
    "energy = time * n_TPU * TDP_TPU * utilisation * PUE\n",
    "print(\"Energy \",energy)\n",
    "co2e = energy * uk_co2e\n",
    "print(\"CO2e \",co2e)"
   ]
  },
  {
   "cell_type": "code",
   "execution_count": 25,
   "metadata": {},
   "outputs": [
    {
     "data": {
      "text/plain": [
       "2805.2"
      ]
     },
     "execution_count": 25,
     "metadata": {},
     "output_type": "execute_result"
    }
   ],
   "source": [
    "10000 * 0.28052"
   ]
  },
  {
   "cell_type": "code",
   "execution_count": 22,
   "metadata": {},
   "outputs": [
    {
     "data": {
      "text/plain": [
       "385.715"
      ]
     },
     "execution_count": 22,
     "metadata": {},
     "output_type": "execute_result"
    }
   ],
   "source": []
  },
  {
   "cell_type": "markdown",
   "metadata": {},
   "source": [
    "# Estimating energy use by CTRL \n",
    "\n",
    "Time = 2 weeks  \n",
    "Hardware = TPUv3  \n",
    "Number of TPUs = 256  \n",
    "PUE of GCP = 1.11"
   ]
  },
  {
   "cell_type": "code",
   "execution_count": 18,
   "metadata": {},
   "outputs": [],
   "source": [
    "time = 14 * 24 #hours\n",
    "TDP_TPU = 200/1000 # kW\n",
    "n_TPU = 256\n",
    "utilisation = 0.9\n",
    "PUE = 1.11\n",
    "uk_co2e = 253/1000 # kg/kWh"
   ]
  },
  {
   "cell_type": "code",
   "execution_count": 19,
   "metadata": {},
   "outputs": [
    {
     "name": "stdout",
     "output_type": "stream",
     "text": [
      "Energy  17185.996800000004\n",
      "CO2e  4348.057190400001\n"
     ]
    }
   ],
   "source": [
    "energy = time * n_TPU * TDP_TPU * utilisation * PUE\n",
    "print(\"Energy \",energy)\n",
    "co2e = energy * uk_co2e\n",
    "print(\"CO2e \",co2e)"
   ]
  },
  {
   "cell_type": "code",
   "execution_count": 17,
   "metadata": {},
   "outputs": [
    {
     "data": {
      "text/plain": [
       "336"
      ]
     },
     "execution_count": 17,
     "metadata": {},
     "output_type": "execute_result"
    }
   ],
   "source": [
    "14*24"
   ]
  },
  {
   "cell_type": "markdown",
   "metadata": {},
   "source": [
    "# Energy consumption by BERT"
   ]
  },
  {
   "cell_type": "code",
   "execution_count": 26,
   "metadata": {},
   "outputs": [
    {
     "name": "stdout",
     "output_type": "stream",
     "text": [
      "380.1600000000001 kWh\n",
      "co2 : 96.18048000000002\n"
     ]
    }
   ],
   "source": [
    "TPUv2 = 250\n",
    "numTPU = 16\n",
    "time = 96\n",
    "util = 0.9\n",
    "pue = 1.1\n",
    "energy_base = pue * time * TPUv2 * numTPU * util /1000\n",
    "co2 = energy_base * uk_co2e\n",
    "print(f\"{energy_base} kWh\")\n",
    "print(f\"co2 : {co2}\")"
   ]
  },
  {
   "cell_type": "code",
   "execution_count": 27,
   "metadata": {},
   "outputs": [
    {
     "name": "stdout",
     "output_type": "stream",
     "text": [
      "1520.6400000000003 kWh\n",
      "co2 : 384.72192000000007\n",
      "7694.438400000001\n"
     ]
    }
   ],
   "source": [
    "TPUv2 = 250\n",
    "numTPU = 64\n",
    "time = 96\n",
    "util = 0.9\n",
    "pue = 1.1\n",
    "energy_large = pue * time * TPUv2 * numTPU * util /1000\n",
    "co2 = energy_large * uk_co2e\n",
    "print(f\"{energy_large} kWh\")\n",
    "print(f\"co2 : {co2}\")\n",
    "print(co2 * 20)"
   ]
  },
  {
   "cell_type": "code",
   "execution_count": null,
   "metadata": {},
   "outputs": [],
   "source": []
  }
 ],
 "metadata": {
  "kernelspec": {
   "display_name": "Python 3",
   "language": "python",
   "name": "python3"
  },
  "language_info": {
   "codemirror_mode": {
    "name": "ipython",
    "version": 3
   },
   "file_extension": ".py",
   "mimetype": "text/x-python",
   "name": "python",
   "nbconvert_exporter": "python",
   "pygments_lexer": "ipython3",
   "version": "3.7.5"
  }
 },
 "nbformat": 4,
 "nbformat_minor": 4
}
